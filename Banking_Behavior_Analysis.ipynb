{
 "cells": [
  {
   "cell_type": "markdown",
   "metadata": {},
   "source": [
    "# Banking behavior cluster - Credit Card"
   ]
  },
  {
   "cell_type": "code",
   "execution_count": 1,
   "metadata": {},
   "outputs": [],
   "source": [
    "import pandas as pd\n",
    "import numpy as np\n",
    "import matplotlib.pyplot as plt\n",
    "import seaborn as sns\n",
    "import plotly.graph_objects as go\n",
    "from sklearn.decomposition import PCA\n",
    "from sklearn.cluster import KMeans"
   ]
  },
  {
   "cell_type": "markdown",
   "metadata": {},
   "source": [
    "### Task \n",
    "##### based on their banking behavior:\n",
    "##### do they have savings account? How much do they save?\n",
    "##### Do they have credit account? How much do they live in debt?\n",
    "##### Are they making lot of small transactions or few huge ones?"
   ]
  },
  {
   "cell_type": "markdown",
   "metadata": {},
   "source": [
    "## 1. Data Preparation and Feature Engineering"
   ]
  },
  {
   "cell_type": "code",
   "execution_count": 2,
   "metadata": {},
   "outputs": [],
   "source": [
    "# import all data needed \n",
    "\n",
    "cre_acct = pd.read_csv('twm_credit_acct.csv', sep=';')\n",
    "customer = pd.read_csv('twm_customer.csv', sep=';')\n",
    "sv_acct = pd.read_csv('twm_savings_acct.csv', sep=';')\n",
    "transaction = pd.read_csv('twm_transactions.csv', sep=';')"
   ]
  },
  {
   "cell_type": "code",
   "execution_count": 3,
   "metadata": {},
   "outputs": [],
   "source": [
    "df_cre_acct = pd.DataFrame(cre_acct)\n",
    "df_customer = pd.DataFrame(customer)\n",
    "df_sv_acct = pd.DataFrame(sv_acct)\n",
    "df_trans = pd.DataFrame(transaction)"
   ]
  },
  {
   "cell_type": "markdown",
   "metadata": {},
   "source": [
    "#### sv acct "
   ]
  },
  {
   "cell_type": "code",
   "execution_count": 4,
   "metadata": {},
   "outputs": [
    {
     "data": {
      "text/plain": [
       "cust_id              0\n",
       "acct_nbr             0\n",
       "change_in_savings    0\n",
       "dtype: int64"
      ]
     },
     "execution_count": 4,
     "metadata": {},
     "output_type": "execute_result"
    }
   ],
   "source": [
    "df_sv_acct['change_in_savings'] = df_sv_acct['ending_balance'] - df_sv_acct['starting_balance']\n",
    "\n",
    "# filter out inactive saving accounts\n",
    "active_filter = df_sv_acct['account_active'] == 'Y '\n",
    "\n",
    "# build bank behaviour df for each customer with savings acct\n",
    "bank_bhv_sv = df_sv_acct[active_filter][['cust_id','acct_nbr','change_in_savings']]\n",
    "\n",
    "bank_bhv_sv.isna().sum()\n"
   ]
  },
  {
   "cell_type": "markdown",
   "metadata": {},
   "source": [
    "#### credit acct"
   ]
  },
  {
   "cell_type": "code",
   "execution_count": 5,
   "metadata": {},
   "outputs": [
    {
     "data": {
      "text/plain": [
       "cust_id            0\n",
       "acct_nbr           0\n",
       "credit_limit       0\n",
       "credit_rating      0\n",
       "change_in_debts    0\n",
       "dtype: int64"
      ]
     },
     "execution_count": 5,
     "metadata": {},
     "output_type": "execute_result"
    }
   ],
   "source": [
    "df_cre_acct['change_in_debts'] = df_cre_acct['ending_balance'] - df_cre_acct['starting_balance']\n",
    "\n",
    "# filter out inactive credit accounts\n",
    "active_filter = df_cre_acct['account_active'] == 'Y '\n",
    "\n",
    "# build bank behaviour df for each customer with credit acct\n",
    "bank_bhv_cre = df_cre_acct[active_filter][['cust_id','acct_nbr', 'credit_limit', 'credit_rating', 'change_in_debts']]\n",
    "\n",
    "bank_bhv_cre.isna().sum()"
   ]
  },
  {
   "cell_type": "markdown",
   "metadata": {},
   "source": [
    "#### Banking behavior based on two accts"
   ]
  },
  {
   "cell_type": "code",
   "execution_count": 6,
   "metadata": {},
   "outputs": [],
   "source": [
    "# join credit accts into customer listing with savings accts\n",
    "bank_bhv = bank_bhv_cre.merge(bank_bhv_sv, left_on='cust_id', right_on='cust_id', how='left')\n",
    "\n",
    "# if customers only have 1/2 accounts, fill NaN with 0\n",
    "bank_bhv = bank_bhv.fillna(0)\n"
   ]
  },
  {
   "cell_type": "code",
   "execution_count": 7,
   "metadata": {},
   "outputs": [],
   "source": [
    "# rename account number for different accounts\n",
    "bank_bhv = bank_bhv.rename(columns={'acct_nbr_y':'savings_acct_nbr',\n",
    "                         'acct_nbr_x':'credit_acct_nbr'})"
   ]
  },
  {
   "cell_type": "code",
   "execution_count": 8,
   "metadata": {},
   "outputs": [
    {
     "data": {
      "text/html": [
       "<div>\n",
       "<style scoped>\n",
       "    .dataframe tbody tr th:only-of-type {\n",
       "        vertical-align: middle;\n",
       "    }\n",
       "\n",
       "    .dataframe tbody tr th {\n",
       "        vertical-align: top;\n",
       "    }\n",
       "\n",
       "    .dataframe thead th {\n",
       "        text-align: right;\n",
       "    }\n",
       "</style>\n",
       "<table border=\"1\" class=\"dataframe\">\n",
       "  <thead>\n",
       "    <tr style=\"text-align: right;\">\n",
       "      <th></th>\n",
       "      <th>cust_id</th>\n",
       "      <th>credit_acct_nbr</th>\n",
       "      <th>credit_limit</th>\n",
       "      <th>credit_rating</th>\n",
       "      <th>change_in_debts</th>\n",
       "      <th>savings_acct_nbr</th>\n",
       "      <th>change_in_savings</th>\n",
       "    </tr>\n",
       "  </thead>\n",
       "  <tbody>\n",
       "    <tr>\n",
       "      <th>0</th>\n",
       "      <td>1363160</td>\n",
       "      <td>4561143213631600</td>\n",
       "      <td>1000</td>\n",
       "      <td>0</td>\n",
       "      <td>-370.77</td>\n",
       "      <td>13631603.0</td>\n",
       "      <td>9.50</td>\n",
       "    </tr>\n",
       "    <tr>\n",
       "      <th>1</th>\n",
       "      <td>1362487</td>\n",
       "      <td>4561143213624870</td>\n",
       "      <td>3000</td>\n",
       "      <td>0</td>\n",
       "      <td>1548.23</td>\n",
       "      <td>0.0</td>\n",
       "      <td>0.00</td>\n",
       "    </tr>\n",
       "    <tr>\n",
       "      <th>2</th>\n",
       "      <td>1362548</td>\n",
       "      <td>4561143213625480</td>\n",
       "      <td>6700</td>\n",
       "      <td>0</td>\n",
       "      <td>-6896.57</td>\n",
       "      <td>13625483.0</td>\n",
       "      <td>3.78</td>\n",
       "    </tr>\n",
       "    <tr>\n",
       "      <th>3</th>\n",
       "      <td>1363017</td>\n",
       "      <td>4561143213630170</td>\n",
       "      <td>1000</td>\n",
       "      <td>0</td>\n",
       "      <td>1000.00</td>\n",
       "      <td>0.0</td>\n",
       "      <td>0.00</td>\n",
       "    </tr>\n",
       "    <tr>\n",
       "      <th>4</th>\n",
       "      <td>1362609</td>\n",
       "      <td>4561143213626090</td>\n",
       "      <td>3000</td>\n",
       "      <td>0</td>\n",
       "      <td>1224.93</td>\n",
       "      <td>13626093.0</td>\n",
       "      <td>-709.02</td>\n",
       "    </tr>\n",
       "    <tr>\n",
       "      <th>...</th>\n",
       "      <td>...</td>\n",
       "      <td>...</td>\n",
       "      <td>...</td>\n",
       "      <td>...</td>\n",
       "      <td>...</td>\n",
       "      <td>...</td>\n",
       "      <td>...</td>\n",
       "    </tr>\n",
       "    <tr>\n",
       "      <th>418</th>\n",
       "      <td>1362895</td>\n",
       "      <td>4561143213628950</td>\n",
       "      <td>1300</td>\n",
       "      <td>0</td>\n",
       "      <td>1300.00</td>\n",
       "      <td>13628953.0</td>\n",
       "      <td>-73.71</td>\n",
       "    </tr>\n",
       "    <tr>\n",
       "      <th>419</th>\n",
       "      <td>1363467</td>\n",
       "      <td>4561143213634670</td>\n",
       "      <td>1500</td>\n",
       "      <td>0</td>\n",
       "      <td>306.11</td>\n",
       "      <td>0.0</td>\n",
       "      <td>0.00</td>\n",
       "    </tr>\n",
       "    <tr>\n",
       "      <th>420</th>\n",
       "      <td>1363263</td>\n",
       "      <td>4561143213632630</td>\n",
       "      <td>3000</td>\n",
       "      <td>0</td>\n",
       "      <td>1218.94</td>\n",
       "      <td>0.0</td>\n",
       "      <td>0.00</td>\n",
       "    </tr>\n",
       "    <tr>\n",
       "      <th>421</th>\n",
       "      <td>1362569</td>\n",
       "      <td>4561143213625690</td>\n",
       "      <td>9200</td>\n",
       "      <td>0</td>\n",
       "      <td>9200.00</td>\n",
       "      <td>0.0</td>\n",
       "      <td>0.00</td>\n",
       "    </tr>\n",
       "    <tr>\n",
       "      <th>422</th>\n",
       "      <td>1363303</td>\n",
       "      <td>4561143213633030</td>\n",
       "      <td>1000</td>\n",
       "      <td>0</td>\n",
       "      <td>1000.00</td>\n",
       "      <td>0.0</td>\n",
       "      <td>0.00</td>\n",
       "    </tr>\n",
       "  </tbody>\n",
       "</table>\n",
       "<p>423 rows × 7 columns</p>\n",
       "</div>"
      ],
      "text/plain": [
       "     cust_id   credit_acct_nbr  credit_limit  credit_rating  change_in_debts  \\\n",
       "0    1363160  4561143213631600          1000              0          -370.77   \n",
       "1    1362487  4561143213624870          3000              0          1548.23   \n",
       "2    1362548  4561143213625480          6700              0         -6896.57   \n",
       "3    1363017  4561143213630170          1000              0          1000.00   \n",
       "4    1362609  4561143213626090          3000              0          1224.93   \n",
       "..       ...               ...           ...            ...              ...   \n",
       "418  1362895  4561143213628950          1300              0          1300.00   \n",
       "419  1363467  4561143213634670          1500              0           306.11   \n",
       "420  1363263  4561143213632630          3000              0          1218.94   \n",
       "421  1362569  4561143213625690          9200              0          9200.00   \n",
       "422  1363303  4561143213633030          1000              0          1000.00   \n",
       "\n",
       "     savings_acct_nbr  change_in_savings  \n",
       "0          13631603.0               9.50  \n",
       "1                 0.0               0.00  \n",
       "2          13625483.0               3.78  \n",
       "3                 0.0               0.00  \n",
       "4          13626093.0            -709.02  \n",
       "..                ...                ...  \n",
       "418        13628953.0             -73.71  \n",
       "419               0.0               0.00  \n",
       "420               0.0               0.00  \n",
       "421               0.0               0.00  \n",
       "422               0.0               0.00  \n",
       "\n",
       "[423 rows x 7 columns]"
      ]
     },
     "execution_count": 8,
     "metadata": {},
     "output_type": "execute_result"
    }
   ],
   "source": [
    "# sv & cc acct data cleaned & merged\n",
    "bank_bhv"
   ]
  },
  {
   "cell_type": "markdown",
   "metadata": {},
   "source": [
    "#### Customer data"
   ]
  },
  {
   "cell_type": "code",
   "execution_count": 9,
   "metadata": {},
   "outputs": [],
   "source": [
    "\n",
    "# add customer data that maybe helpful to banking behavior (listed below in the columns)\n",
    "bank_bhv = bank_bhv.merge(df_customer[['cust_id', 'income', 'years_with_bank']], \n",
    "                          left_on='cust_id', right_on='cust_id', how='left')"
   ]
  },
  {
   "cell_type": "code",
   "execution_count": 10,
   "metadata": {},
   "outputs": [
    {
     "data": {
      "text/html": [
       "<div>\n",
       "<style scoped>\n",
       "    .dataframe tbody tr th:only-of-type {\n",
       "        vertical-align: middle;\n",
       "    }\n",
       "\n",
       "    .dataframe tbody tr th {\n",
       "        vertical-align: top;\n",
       "    }\n",
       "\n",
       "    .dataframe thead th {\n",
       "        text-align: right;\n",
       "    }\n",
       "</style>\n",
       "<table border=\"1\" class=\"dataframe\">\n",
       "  <thead>\n",
       "    <tr style=\"text-align: right;\">\n",
       "      <th></th>\n",
       "      <th>cust_id</th>\n",
       "      <th>credit_acct_nbr</th>\n",
       "      <th>credit_limit</th>\n",
       "      <th>credit_rating</th>\n",
       "      <th>change_in_debts</th>\n",
       "      <th>savings_acct_nbr</th>\n",
       "      <th>change_in_savings</th>\n",
       "      <th>income</th>\n",
       "      <th>years_with_bank</th>\n",
       "    </tr>\n",
       "  </thead>\n",
       "  <tbody>\n",
       "    <tr>\n",
       "      <th>0</th>\n",
       "      <td>1363160</td>\n",
       "      <td>4561143213631600</td>\n",
       "      <td>1000</td>\n",
       "      <td>0</td>\n",
       "      <td>-370.77</td>\n",
       "      <td>13631603.0</td>\n",
       "      <td>9.50</td>\n",
       "      <td>18548</td>\n",
       "      <td>8</td>\n",
       "    </tr>\n",
       "    <tr>\n",
       "      <th>1</th>\n",
       "      <td>1362487</td>\n",
       "      <td>4561143213624870</td>\n",
       "      <td>3000</td>\n",
       "      <td>0</td>\n",
       "      <td>1548.23</td>\n",
       "      <td>0.0</td>\n",
       "      <td>0.00</td>\n",
       "      <td>6605</td>\n",
       "      <td>1</td>\n",
       "    </tr>\n",
       "    <tr>\n",
       "      <th>2</th>\n",
       "      <td>1362548</td>\n",
       "      <td>4561143213625480</td>\n",
       "      <td>6700</td>\n",
       "      <td>0</td>\n",
       "      <td>-6896.57</td>\n",
       "      <td>13625483.0</td>\n",
       "      <td>3.78</td>\n",
       "      <td>44554</td>\n",
       "      <td>9</td>\n",
       "    </tr>\n",
       "    <tr>\n",
       "      <th>3</th>\n",
       "      <td>1363017</td>\n",
       "      <td>4561143213630170</td>\n",
       "      <td>1000</td>\n",
       "      <td>0</td>\n",
       "      <td>1000.00</td>\n",
       "      <td>0.0</td>\n",
       "      <td>0.00</td>\n",
       "      <td>0</td>\n",
       "      <td>1</td>\n",
       "    </tr>\n",
       "    <tr>\n",
       "      <th>4</th>\n",
       "      <td>1362609</td>\n",
       "      <td>4561143213626090</td>\n",
       "      <td>3000</td>\n",
       "      <td>0</td>\n",
       "      <td>1224.93</td>\n",
       "      <td>13626093.0</td>\n",
       "      <td>-709.02</td>\n",
       "      <td>1929</td>\n",
       "      <td>8</td>\n",
       "    </tr>\n",
       "    <tr>\n",
       "      <th>...</th>\n",
       "      <td>...</td>\n",
       "      <td>...</td>\n",
       "      <td>...</td>\n",
       "      <td>...</td>\n",
       "      <td>...</td>\n",
       "      <td>...</td>\n",
       "      <td>...</td>\n",
       "      <td>...</td>\n",
       "      <td>...</td>\n",
       "    </tr>\n",
       "    <tr>\n",
       "      <th>418</th>\n",
       "      <td>1362895</td>\n",
       "      <td>4561143213628950</td>\n",
       "      <td>1300</td>\n",
       "      <td>0</td>\n",
       "      <td>1300.00</td>\n",
       "      <td>13628953.0</td>\n",
       "      <td>-73.71</td>\n",
       "      <td>26387</td>\n",
       "      <td>6</td>\n",
       "    </tr>\n",
       "    <tr>\n",
       "      <th>419</th>\n",
       "      <td>1363467</td>\n",
       "      <td>4561143213634670</td>\n",
       "      <td>1500</td>\n",
       "      <td>0</td>\n",
       "      <td>306.11</td>\n",
       "      <td>0.0</td>\n",
       "      <td>0.00</td>\n",
       "      <td>29521</td>\n",
       "      <td>4</td>\n",
       "    </tr>\n",
       "    <tr>\n",
       "      <th>420</th>\n",
       "      <td>1363263</td>\n",
       "      <td>4561143213632630</td>\n",
       "      <td>3000</td>\n",
       "      <td>0</td>\n",
       "      <td>1218.94</td>\n",
       "      <td>0.0</td>\n",
       "      <td>0.00</td>\n",
       "      <td>13269</td>\n",
       "      <td>0</td>\n",
       "    </tr>\n",
       "    <tr>\n",
       "      <th>421</th>\n",
       "      <td>1362569</td>\n",
       "      <td>4561143213625690</td>\n",
       "      <td>9200</td>\n",
       "      <td>0</td>\n",
       "      <td>9200.00</td>\n",
       "      <td>0.0</td>\n",
       "      <td>0.00</td>\n",
       "      <td>61300</td>\n",
       "      <td>0</td>\n",
       "    </tr>\n",
       "    <tr>\n",
       "      <th>422</th>\n",
       "      <td>1363303</td>\n",
       "      <td>4561143213633030</td>\n",
       "      <td>1000</td>\n",
       "      <td>0</td>\n",
       "      <td>1000.00</td>\n",
       "      <td>0.0</td>\n",
       "      <td>0.00</td>\n",
       "      <td>17875</td>\n",
       "      <td>3</td>\n",
       "    </tr>\n",
       "  </tbody>\n",
       "</table>\n",
       "<p>423 rows × 9 columns</p>\n",
       "</div>"
      ],
      "text/plain": [
       "     cust_id   credit_acct_nbr  credit_limit  credit_rating  change_in_debts  \\\n",
       "0    1363160  4561143213631600          1000              0          -370.77   \n",
       "1    1362487  4561143213624870          3000              0          1548.23   \n",
       "2    1362548  4561143213625480          6700              0         -6896.57   \n",
       "3    1363017  4561143213630170          1000              0          1000.00   \n",
       "4    1362609  4561143213626090          3000              0          1224.93   \n",
       "..       ...               ...           ...            ...              ...   \n",
       "418  1362895  4561143213628950          1300              0          1300.00   \n",
       "419  1363467  4561143213634670          1500              0           306.11   \n",
       "420  1363263  4561143213632630          3000              0          1218.94   \n",
       "421  1362569  4561143213625690          9200              0          9200.00   \n",
       "422  1363303  4561143213633030          1000              0          1000.00   \n",
       "\n",
       "     savings_acct_nbr  change_in_savings  income  years_with_bank  \n",
       "0          13631603.0               9.50   18548                8  \n",
       "1                 0.0               0.00    6605                1  \n",
       "2          13625483.0               3.78   44554                9  \n",
       "3                 0.0               0.00       0                1  \n",
       "4          13626093.0            -709.02    1929                8  \n",
       "..                ...                ...     ...              ...  \n",
       "418        13628953.0             -73.71   26387                6  \n",
       "419               0.0               0.00   29521                4  \n",
       "420               0.0               0.00   13269                0  \n",
       "421               0.0               0.00   61300                0  \n",
       "422               0.0               0.00   17875                3  \n",
       "\n",
       "[423 rows x 9 columns]"
      ]
     },
     "execution_count": 10,
     "metadata": {},
     "output_type": "execute_result"
    }
   ],
   "source": [
    "# df merged for credit acct + sv acct + customer(income, yr with bank)\n",
    "bank_bhv"
   ]
  },
  {
   "cell_type": "markdown",
   "metadata": {},
   "source": [
    "#### Transaction data"
   ]
  },
  {
   "cell_type": "code",
   "execution_count": 11,
   "metadata": {},
   "outputs": [
    {
     "data": {
      "text/html": [
       "<div>\n",
       "<style scoped>\n",
       "    .dataframe tbody tr th:only-of-type {\n",
       "        vertical-align: middle;\n",
       "    }\n",
       "\n",
       "    .dataframe tbody tr th {\n",
       "        vertical-align: top;\n",
       "    }\n",
       "\n",
       "    .dataframe thead th {\n",
       "        text-align: right;\n",
       "    }\n",
       "</style>\n",
       "<table border=\"1\" class=\"dataframe\">\n",
       "  <thead>\n",
       "    <tr style=\"text-align: right;\">\n",
       "      <th></th>\n",
       "      <th>tran_id</th>\n",
       "      <th>acct_nbr</th>\n",
       "      <th>tran_amt</th>\n",
       "      <th>principal_amt</th>\n",
       "      <th>interest_amt</th>\n",
       "      <th>new_balance</th>\n",
       "      <th>tran_date</th>\n",
       "      <th>tran_time</th>\n",
       "      <th>channel</th>\n",
       "      <th>tran_code</th>\n",
       "    </tr>\n",
       "  </thead>\n",
       "  <tbody>\n",
       "    <tr>\n",
       "      <th>0</th>\n",
       "      <td>27</td>\n",
       "      <td>13625623</td>\n",
       "      <td>0.00</td>\n",
       "      <td>0.00</td>\n",
       "      <td>0.0</td>\n",
       "      <td>3753.34</td>\n",
       "      <td>21.10.1995</td>\n",
       "      <td>121656</td>\n",
       "      <td>A</td>\n",
       "      <td>IQ</td>\n",
       "    </tr>\n",
       "    <tr>\n",
       "      <th>1</th>\n",
       "      <td>97</td>\n",
       "      <td>13628392</td>\n",
       "      <td>0.00</td>\n",
       "      <td>0.00</td>\n",
       "      <td>0.0</td>\n",
       "      <td>254.49</td>\n",
       "      <td>5.2.1995</td>\n",
       "      <td>153053</td>\n",
       "      <td>V</td>\n",
       "      <td>IQ</td>\n",
       "    </tr>\n",
       "    <tr>\n",
       "      <th>2</th>\n",
       "      <td>21</td>\n",
       "      <td>13630842</td>\n",
       "      <td>-97.57</td>\n",
       "      <td>-97.57</td>\n",
       "      <td>0.0</td>\n",
       "      <td>3819.56</td>\n",
       "      <td>23.7.1995</td>\n",
       "      <td>0</td>\n",
       "      <td>P</td>\n",
       "      <td>WD</td>\n",
       "    </tr>\n",
       "    <tr>\n",
       "      <th>3</th>\n",
       "      <td>44</td>\n",
       "      <td>13631412</td>\n",
       "      <td>-0.15</td>\n",
       "      <td>-0.15</td>\n",
       "      <td>0.0</td>\n",
       "      <td>224.05</td>\n",
       "      <td>30.1.1995</td>\n",
       "      <td>0</td>\n",
       "      <td></td>\n",
       "      <td>FK</td>\n",
       "    </tr>\n",
       "    <tr>\n",
       "      <th>4</th>\n",
       "      <td>31</td>\n",
       "      <td>13625722</td>\n",
       "      <td>0.00</td>\n",
       "      <td>0.00</td>\n",
       "      <td>0.0</td>\n",
       "      <td>240.55</td>\n",
       "      <td>25.1.1995</td>\n",
       "      <td>204521</td>\n",
       "      <td>B</td>\n",
       "      <td>IQ</td>\n",
       "    </tr>\n",
       "  </tbody>\n",
       "</table>\n",
       "</div>"
      ],
      "text/plain": [
       "   tran_id  acct_nbr  tran_amt  principal_amt  interest_amt  new_balance  \\\n",
       "0       27  13625623      0.00           0.00           0.0      3753.34   \n",
       "1       97  13628392      0.00           0.00           0.0       254.49   \n",
       "2       21  13630842    -97.57         -97.57           0.0      3819.56   \n",
       "3       44  13631412     -0.15          -0.15           0.0       224.05   \n",
       "4       31  13625722      0.00           0.00           0.0       240.55   \n",
       "\n",
       "    tran_date  tran_time channel tran_code  \n",
       "0  21.10.1995     121656      A       IQ    \n",
       "1    5.2.1995     153053      V       IQ    \n",
       "2   23.7.1995          0      P       WD    \n",
       "3   30.1.1995          0              FK    \n",
       "4   25.1.1995     204521      B       IQ    "
      ]
     },
     "execution_count": 11,
     "metadata": {},
     "output_type": "execute_result"
    }
   ],
   "source": [
    "df_trans.head()"
   ]
  },
  {
   "cell_type": "code",
   "execution_count": 12,
   "metadata": {},
   "outputs": [
    {
     "data": {
      "text/plain": [
       "acct_nbr          tran_id  tran_amt  principal_amt  interest_amt  new_balance  tran_date   tran_time  channel  tran_code\n",
       "13624802          1        -297.38   -297.38        0.00           34.47       2.1.1995    0          P        WD           1\n",
       "                  2        -0.15     -0.15          0.00           34.32       2.1.1995    0                   FK           1\n",
       "                  57       -20.00    -20.00         0.00           28.86       21.1.1995   134752     A        WD           1\n",
       "                  55       -112.87   -112.87        0.00           49.01       21.1.1995   0          P        WD           1\n",
       "                  54       -161.89   -161.89        0.00           161.88      20.1.1995   191749     K        TR           1\n",
       "                                                                                                                           ..\n",
       "4561143213634920  17       -635.58   -635.58        0.00          -7100.00     13.5.1995   154408     E        CG           1\n",
       "                  16        718.27    628.59        89.68         -6464.42     4.5.1995    0          M        PM           1\n",
       "                  15       -626.36   -626.36        0.00          -7093.01     29.4.1995   81523      E        CG           1\n",
       "                  14        0.00      0.00          0.00          -6466.65     9.4.1995    83112      A        IQ           1\n",
       "                  29       -404.13   -404.13        0.00          -6869.00     22.12.1995  182026     E        CG           1\n",
       "Length: 77580, dtype: int64"
      ]
     },
     "execution_count": 12,
     "metadata": {},
     "output_type": "execute_result"
    }
   ],
   "source": [
    "# transaction data for each acct_nbr (can be either sv or credit) \n",
    "df_trans.groupby('acct_nbr').value_counts()\n",
    "\n",
    "# 1. count(tran_id) as transaction times \n",
    "# 2. avg (tran_amt) as mean trans_amt per customer\n",
    "# 3. ?? tran_time wtf is this \n",
    "# 4. sum (tran_amt) as total money spent per customer"
   ]
  },
  {
   "cell_type": "code",
   "execution_count": 13,
   "metadata": {},
   "outputs": [],
   "source": [
    "# create new columns before processing data\n",
    "df_trans['trans_count'] = df_trans['tran_id']\n",
    "df_trans['avg_trans_amt'] = df_trans['tran_amt']\n",
    "df_trans['sum_trans_amt'] = df_trans['tran_amt']"
   ]
  },
  {
   "cell_type": "code",
   "execution_count": 14,
   "metadata": {},
   "outputs": [],
   "source": [
    "df_trans = df_trans[\n",
    "    ['acct_nbr', \n",
    "    'trans_count', \n",
    "    'avg_trans_amt',\n",
    "    'sum_trans_amt'\n",
    "    ]].groupby('acct_nbr').agg(\n",
    "    {'trans_count':'count',\n",
    "    'sum_trans_amt':'sum',\n",
    "    'avg_trans_amt':'mean'\n",
    "    })"
   ]
  },
  {
   "cell_type": "code",
   "execution_count": 15,
   "metadata": {},
   "outputs": [
    {
     "data": {
      "text/html": [
       "<div>\n",
       "<style scoped>\n",
       "    .dataframe tbody tr th:only-of-type {\n",
       "        vertical-align: middle;\n",
       "    }\n",
       "\n",
       "    .dataframe tbody tr th {\n",
       "        vertical-align: top;\n",
       "    }\n",
       "\n",
       "    .dataframe thead th {\n",
       "        text-align: right;\n",
       "    }\n",
       "</style>\n",
       "<table border=\"1\" class=\"dataframe\">\n",
       "  <thead>\n",
       "    <tr style=\"text-align: right;\">\n",
       "      <th></th>\n",
       "      <th>trans_count</th>\n",
       "      <th>sum_trans_amt</th>\n",
       "      <th>avg_trans_amt</th>\n",
       "    </tr>\n",
       "    <tr>\n",
       "      <th>acct_nbr</th>\n",
       "      <th></th>\n",
       "      <th></th>\n",
       "      <th></th>\n",
       "    </tr>\n",
       "  </thead>\n",
       "  <tbody>\n",
       "    <tr>\n",
       "      <th>13624802</th>\n",
       "      <td>99</td>\n",
       "      <td>-244.99</td>\n",
       "      <td>-2.474646</td>\n",
       "    </tr>\n",
       "    <tr>\n",
       "      <th>13624803</th>\n",
       "      <td>26</td>\n",
       "      <td>482.32</td>\n",
       "      <td>18.550769</td>\n",
       "    </tr>\n",
       "    <tr>\n",
       "      <th>13624842</th>\n",
       "      <td>99</td>\n",
       "      <td>-2518.14</td>\n",
       "      <td>-25.435758</td>\n",
       "    </tr>\n",
       "    <tr>\n",
       "      <th>13624843</th>\n",
       "      <td>33</td>\n",
       "      <td>1929.66</td>\n",
       "      <td>58.474545</td>\n",
       "    </tr>\n",
       "    <tr>\n",
       "      <th>13624852</th>\n",
       "      <td>99</td>\n",
       "      <td>-164.29</td>\n",
       "      <td>-1.659495</td>\n",
       "    </tr>\n",
       "    <tr>\n",
       "      <th>...</th>\n",
       "      <td>...</td>\n",
       "      <td>...</td>\n",
       "      <td>...</td>\n",
       "    </tr>\n",
       "    <tr>\n",
       "      <th>4561143213634830</th>\n",
       "      <td>77</td>\n",
       "      <td>25.78</td>\n",
       "      <td>0.334805</td>\n",
       "    </tr>\n",
       "    <tr>\n",
       "      <th>4561143213634840</th>\n",
       "      <td>39</td>\n",
       "      <td>471.14</td>\n",
       "      <td>12.080513</td>\n",
       "    </tr>\n",
       "    <tr>\n",
       "      <th>4561143213634850</th>\n",
       "      <td>23</td>\n",
       "      <td>3202.51</td>\n",
       "      <td>139.239565</td>\n",
       "    </tr>\n",
       "    <tr>\n",
       "      <th>4561143213634860</th>\n",
       "      <td>38</td>\n",
       "      <td>0.00</td>\n",
       "      <td>0.000000</td>\n",
       "    </tr>\n",
       "    <tr>\n",
       "      <th>4561143213634920</th>\n",
       "      <td>29</td>\n",
       "      <td>-1777.14</td>\n",
       "      <td>-61.280690</td>\n",
       "    </tr>\n",
       "  </tbody>\n",
       "</table>\n",
       "<p>1398 rows × 3 columns</p>\n",
       "</div>"
      ],
      "text/plain": [
       "                  trans_count  sum_trans_amt  avg_trans_amt\n",
       "acct_nbr                                                   \n",
       "13624802                   99        -244.99      -2.474646\n",
       "13624803                   26         482.32      18.550769\n",
       "13624842                   99       -2518.14     -25.435758\n",
       "13624843                   33        1929.66      58.474545\n",
       "13624852                   99        -164.29      -1.659495\n",
       "...                       ...            ...            ...\n",
       "4561143213634830           77          25.78       0.334805\n",
       "4561143213634840           39         471.14      12.080513\n",
       "4561143213634850           23        3202.51     139.239565\n",
       "4561143213634860           38           0.00       0.000000\n",
       "4561143213634920           29       -1777.14     -61.280690\n",
       "\n",
       "[1398 rows x 3 columns]"
      ]
     },
     "execution_count": 15,
     "metadata": {},
     "output_type": "execute_result"
    }
   ],
   "source": [
    "df_trans"
   ]
  },
  {
   "cell_type": "code",
   "execution_count": 16,
   "metadata": {},
   "outputs": [],
   "source": [
    "# inner merge with banking behavior with acct_nbr to get each customer's transaction's data\n",
    "# add saving acct\n",
    "bank_bhv = bank_bhv.merge(df_trans, left_on='savings_acct_nbr', right_on='acct_nbr', how='inner')\n"
   ]
  },
  {
   "cell_type": "code",
   "execution_count": 17,
   "metadata": {},
   "outputs": [
    {
     "data": {
      "text/html": [
       "<div>\n",
       "<style scoped>\n",
       "    .dataframe tbody tr th:only-of-type {\n",
       "        vertical-align: middle;\n",
       "    }\n",
       "\n",
       "    .dataframe tbody tr th {\n",
       "        vertical-align: top;\n",
       "    }\n",
       "\n",
       "    .dataframe thead th {\n",
       "        text-align: right;\n",
       "    }\n",
       "</style>\n",
       "<table border=\"1\" class=\"dataframe\">\n",
       "  <thead>\n",
       "    <tr style=\"text-align: right;\">\n",
       "      <th></th>\n",
       "      <th>cust_id</th>\n",
       "      <th>credit_acct_nbr</th>\n",
       "      <th>credit_limit</th>\n",
       "      <th>credit_rating</th>\n",
       "      <th>change_in_debts</th>\n",
       "      <th>savings_acct_nbr</th>\n",
       "      <th>change_in_savings</th>\n",
       "      <th>income</th>\n",
       "      <th>years_with_bank</th>\n",
       "      <th>trans_count</th>\n",
       "      <th>sum_trans_amt</th>\n",
       "      <th>avg_trans_amt</th>\n",
       "    </tr>\n",
       "  </thead>\n",
       "  <tbody>\n",
       "    <tr>\n",
       "      <th>0</th>\n",
       "      <td>1363160</td>\n",
       "      <td>4561143213631600</td>\n",
       "      <td>1000</td>\n",
       "      <td>0</td>\n",
       "      <td>-370.77</td>\n",
       "      <td>13631603.0</td>\n",
       "      <td>9.50</td>\n",
       "      <td>18548</td>\n",
       "      <td>8</td>\n",
       "      <td>48</td>\n",
       "      <td>9.50</td>\n",
       "      <td>0.197917</td>\n",
       "    </tr>\n",
       "    <tr>\n",
       "      <th>1</th>\n",
       "      <td>1362548</td>\n",
       "      <td>4561143213625480</td>\n",
       "      <td>6700</td>\n",
       "      <td>0</td>\n",
       "      <td>-6896.57</td>\n",
       "      <td>13625483.0</td>\n",
       "      <td>3.78</td>\n",
       "      <td>44554</td>\n",
       "      <td>9</td>\n",
       "      <td>12</td>\n",
       "      <td>3.78</td>\n",
       "      <td>0.315000</td>\n",
       "    </tr>\n",
       "    <tr>\n",
       "      <th>2</th>\n",
       "      <td>1362609</td>\n",
       "      <td>4561143213626090</td>\n",
       "      <td>3000</td>\n",
       "      <td>0</td>\n",
       "      <td>1224.93</td>\n",
       "      <td>13626093.0</td>\n",
       "      <td>-709.02</td>\n",
       "      <td>1929</td>\n",
       "      <td>8</td>\n",
       "      <td>31</td>\n",
       "      <td>-708.48</td>\n",
       "      <td>-22.854194</td>\n",
       "    </tr>\n",
       "    <tr>\n",
       "      <th>3</th>\n",
       "      <td>1363078</td>\n",
       "      <td>4561143213630780</td>\n",
       "      <td>3000</td>\n",
       "      <td>0</td>\n",
       "      <td>-1238.14</td>\n",
       "      <td>13630783.0</td>\n",
       "      <td>468.57</td>\n",
       "      <td>9622</td>\n",
       "      <td>6</td>\n",
       "      <td>26</td>\n",
       "      <td>469.38</td>\n",
       "      <td>18.053077</td>\n",
       "    </tr>\n",
       "    <tr>\n",
       "      <th>4</th>\n",
       "      <td>1363200</td>\n",
       "      <td>4561143213632000</td>\n",
       "      <td>1100</td>\n",
       "      <td>3</td>\n",
       "      <td>254.56</td>\n",
       "      <td>13632003.0</td>\n",
       "      <td>1242.76</td>\n",
       "      <td>21015</td>\n",
       "      <td>3</td>\n",
       "      <td>31</td>\n",
       "      <td>1242.76</td>\n",
       "      <td>40.089032</td>\n",
       "    </tr>\n",
       "  </tbody>\n",
       "</table>\n",
       "</div>"
      ],
      "text/plain": [
       "   cust_id   credit_acct_nbr  credit_limit  credit_rating  change_in_debts  \\\n",
       "0  1363160  4561143213631600          1000              0          -370.77   \n",
       "1  1362548  4561143213625480          6700              0         -6896.57   \n",
       "2  1362609  4561143213626090          3000              0          1224.93   \n",
       "3  1363078  4561143213630780          3000              0         -1238.14   \n",
       "4  1363200  4561143213632000          1100              3           254.56   \n",
       "\n",
       "   savings_acct_nbr  change_in_savings  income  years_with_bank  trans_count  \\\n",
       "0        13631603.0               9.50   18548                8           48   \n",
       "1        13625483.0               3.78   44554                9           12   \n",
       "2        13626093.0            -709.02    1929                8           31   \n",
       "3        13630783.0             468.57    9622                6           26   \n",
       "4        13632003.0            1242.76   21015                3           31   \n",
       "\n",
       "   sum_trans_amt  avg_trans_amt  \n",
       "0           9.50       0.197917  \n",
       "1           3.78       0.315000  \n",
       "2        -708.48     -22.854194  \n",
       "3         469.38      18.053077  \n",
       "4        1242.76      40.089032  "
      ]
     },
     "execution_count": 17,
     "metadata": {},
     "output_type": "execute_result"
    }
   ],
   "source": [
    "bank_bhv.head()\n",
    "\n",
    "# need to renmae x,y to distinguish btw credit and savings "
   ]
  },
  {
   "cell_type": "code",
   "execution_count": 18,
   "metadata": {},
   "outputs": [],
   "source": [
    "# change name to not confuse with credit acct\n",
    "bank_bhv = bank_bhv.rename(columns={\n",
    "    'avg_trans_amt':'sav_trans_avg',\n",
    "    'sum_trans_amt':'sav_trans_sum',\n",
    "    'trans_count':'sav_trans_count'})"
   ]
  },
  {
   "cell_type": "code",
   "execution_count": 19,
   "metadata": {},
   "outputs": [],
   "source": [
    "# add credit acct \n",
    "bank_bhv = bank_bhv.merge(df_trans, left_on='credit_acct_nbr', right_on='acct_nbr', how='inner')"
   ]
  },
  {
   "cell_type": "code",
   "execution_count": 20,
   "metadata": {},
   "outputs": [],
   "source": [
    "bank_bhv = bank_bhv.rename(columns={\n",
    "    'avg_trans_amt':'cre_trans_avg',\n",
    "    'sum_trans_amt':'cre_trans_sum',\n",
    "    'trans_count':'cre_trans_count'})"
   ]
  },
  {
   "cell_type": "code",
   "execution_count": 21,
   "metadata": {},
   "outputs": [
    {
     "data": {
      "text/html": [
       "<div>\n",
       "<style scoped>\n",
       "    .dataframe tbody tr th:only-of-type {\n",
       "        vertical-align: middle;\n",
       "    }\n",
       "\n",
       "    .dataframe tbody tr th {\n",
       "        vertical-align: top;\n",
       "    }\n",
       "\n",
       "    .dataframe thead th {\n",
       "        text-align: right;\n",
       "    }\n",
       "</style>\n",
       "<table border=\"1\" class=\"dataframe\">\n",
       "  <thead>\n",
       "    <tr style=\"text-align: right;\">\n",
       "      <th></th>\n",
       "      <th>cust_id</th>\n",
       "      <th>credit_acct_nbr</th>\n",
       "      <th>credit_limit</th>\n",
       "      <th>credit_rating</th>\n",
       "      <th>change_in_debts</th>\n",
       "      <th>savings_acct_nbr</th>\n",
       "      <th>change_in_savings</th>\n",
       "      <th>income</th>\n",
       "      <th>years_with_bank</th>\n",
       "      <th>sav_trans_count</th>\n",
       "      <th>sav_trans_sum</th>\n",
       "      <th>sav_trans_avg</th>\n",
       "      <th>cre_trans_count</th>\n",
       "      <th>cre_trans_sum</th>\n",
       "      <th>cre_trans_avg</th>\n",
       "    </tr>\n",
       "  </thead>\n",
       "  <tbody>\n",
       "    <tr>\n",
       "      <th>0</th>\n",
       "      <td>1363160</td>\n",
       "      <td>4561143213631600</td>\n",
       "      <td>1000</td>\n",
       "      <td>0</td>\n",
       "      <td>-370.77</td>\n",
       "      <td>13631603.0</td>\n",
       "      <td>9.50</td>\n",
       "      <td>18548</td>\n",
       "      <td>8</td>\n",
       "      <td>48</td>\n",
       "      <td>9.50</td>\n",
       "      <td>0.197917</td>\n",
       "      <td>68</td>\n",
       "      <td>380.03</td>\n",
       "      <td>5.588676</td>\n",
       "    </tr>\n",
       "    <tr>\n",
       "      <th>1</th>\n",
       "      <td>1362548</td>\n",
       "      <td>4561143213625480</td>\n",
       "      <td>6700</td>\n",
       "      <td>0</td>\n",
       "      <td>-6896.57</td>\n",
       "      <td>13625483.0</td>\n",
       "      <td>3.78</td>\n",
       "      <td>44554</td>\n",
       "      <td>9</td>\n",
       "      <td>12</td>\n",
       "      <td>3.78</td>\n",
       "      <td>0.315000</td>\n",
       "      <td>22</td>\n",
       "      <td>6977.25</td>\n",
       "      <td>317.147727</td>\n",
       "    </tr>\n",
       "    <tr>\n",
       "      <th>2</th>\n",
       "      <td>1362609</td>\n",
       "      <td>4561143213626090</td>\n",
       "      <td>3000</td>\n",
       "      <td>0</td>\n",
       "      <td>1224.93</td>\n",
       "      <td>13626093.0</td>\n",
       "      <td>-709.02</td>\n",
       "      <td>1929</td>\n",
       "      <td>8</td>\n",
       "      <td>31</td>\n",
       "      <td>-708.48</td>\n",
       "      <td>-22.854194</td>\n",
       "      <td>44</td>\n",
       "      <td>-874.30</td>\n",
       "      <td>-19.870455</td>\n",
       "    </tr>\n",
       "    <tr>\n",
       "      <th>3</th>\n",
       "      <td>1363078</td>\n",
       "      <td>4561143213630780</td>\n",
       "      <td>3000</td>\n",
       "      <td>0</td>\n",
       "      <td>-1238.14</td>\n",
       "      <td>13630783.0</td>\n",
       "      <td>468.57</td>\n",
       "      <td>9622</td>\n",
       "      <td>6</td>\n",
       "      <td>26</td>\n",
       "      <td>469.38</td>\n",
       "      <td>18.053077</td>\n",
       "      <td>50</td>\n",
       "      <td>1314.07</td>\n",
       "      <td>26.281400</td>\n",
       "    </tr>\n",
       "    <tr>\n",
       "      <th>4</th>\n",
       "      <td>1363200</td>\n",
       "      <td>4561143213632000</td>\n",
       "      <td>1100</td>\n",
       "      <td>3</td>\n",
       "      <td>254.56</td>\n",
       "      <td>13632003.0</td>\n",
       "      <td>1242.76</td>\n",
       "      <td>21015</td>\n",
       "      <td>3</td>\n",
       "      <td>31</td>\n",
       "      <td>1242.76</td>\n",
       "      <td>40.089032</td>\n",
       "      <td>47</td>\n",
       "      <td>-238.84</td>\n",
       "      <td>-5.081702</td>\n",
       "    </tr>\n",
       "  </tbody>\n",
       "</table>\n",
       "</div>"
      ],
      "text/plain": [
       "   cust_id   credit_acct_nbr  credit_limit  credit_rating  change_in_debts  \\\n",
       "0  1363160  4561143213631600          1000              0          -370.77   \n",
       "1  1362548  4561143213625480          6700              0         -6896.57   \n",
       "2  1362609  4561143213626090          3000              0          1224.93   \n",
       "3  1363078  4561143213630780          3000              0         -1238.14   \n",
       "4  1363200  4561143213632000          1100              3           254.56   \n",
       "\n",
       "   savings_acct_nbr  change_in_savings  income  years_with_bank  \\\n",
       "0        13631603.0               9.50   18548                8   \n",
       "1        13625483.0               3.78   44554                9   \n",
       "2        13626093.0            -709.02    1929                8   \n",
       "3        13630783.0             468.57    9622                6   \n",
       "4        13632003.0            1242.76   21015                3   \n",
       "\n",
       "   sav_trans_count  sav_trans_sum  sav_trans_avg  cre_trans_count  \\\n",
       "0               48           9.50       0.197917               68   \n",
       "1               12           3.78       0.315000               22   \n",
       "2               31        -708.48     -22.854194               44   \n",
       "3               26         469.38      18.053077               50   \n",
       "4               31        1242.76      40.089032               47   \n",
       "\n",
       "   cre_trans_sum  cre_trans_avg  \n",
       "0         380.03       5.588676  \n",
       "1        6977.25     317.147727  \n",
       "2        -874.30     -19.870455  \n",
       "3        1314.07      26.281400  \n",
       "4        -238.84      -5.081702  "
      ]
     },
     "execution_count": 21,
     "metadata": {},
     "output_type": "execute_result"
    }
   ],
   "source": [
    "bank_bhv.head()"
   ]
  },
  {
   "cell_type": "code",
   "execution_count": 22,
   "metadata": {},
   "outputs": [
    {
     "data": {
      "text/plain": [
       "cust_id              0\n",
       "credit_acct_nbr      0\n",
       "credit_limit         0\n",
       "credit_rating        0\n",
       "change_in_debts      0\n",
       "savings_acct_nbr     0\n",
       "change_in_savings    0\n",
       "income               0\n",
       "years_with_bank      0\n",
       "sav_trans_count      0\n",
       "sav_trans_sum        0\n",
       "sav_trans_avg        0\n",
       "cre_trans_count      0\n",
       "cre_trans_sum        0\n",
       "cre_trans_avg        0\n",
       "dtype: int64"
      ]
     },
     "execution_count": 22,
     "metadata": {},
     "output_type": "execute_result"
    }
   ],
   "source": [
    "bank_bhv.isna().sum()"
   ]
  },
  {
   "cell_type": "code",
   "execution_count": 23,
   "metadata": {},
   "outputs": [],
   "source": [
    "# need to drop nomial data (like ids & acc_nbr)\n",
    "bank_bhv.drop(columns=['cust_id', 'credit_acct_nbr', 'savings_acct_nbr'], inplace=True)"
   ]
  },
  {
   "cell_type": "code",
   "execution_count": 24,
   "metadata": {},
   "outputs": [],
   "source": [
    "# try\n",
    "# bank_bhv.drop(columns=['credit_limit', 'credit_rating'], inplace=True)\n",
    "# try \n",
    "# bank_bhv.drop(columns=['years_with_bank'], inplace=True)\n",
    "# try\n",
    "bank_bhv.drop(columns=['credit_rating'], inplace=True)"
   ]
  },
  {
   "cell_type": "markdown",
   "metadata": {},
   "source": [
    "## 2. Dimensionality reduction "
   ]
  },
  {
   "cell_type": "markdown",
   "metadata": {},
   "source": [
    "### PCA -> 2D"
   ]
  },
  {
   "cell_type": "code",
   "execution_count": 25,
   "metadata": {},
   "outputs": [
    {
     "data": {
      "text/plain": [
       "(235, 11)"
      ]
     },
     "execution_count": 25,
     "metadata": {},
     "output_type": "execute_result"
    }
   ],
   "source": [
    "bank_bhv.shape\n",
    "# 15 features for banking behavior analysis"
   ]
  },
  {
   "cell_type": "code",
   "execution_count": 26,
   "metadata": {},
   "outputs": [],
   "source": [
    "x = bank_bhv\n",
    "\n",
    "from sklearn.preprocessing import StandardScaler\n",
    "# PCA use standardscaler as normalization is important in PCA since it is a variance maximizing exercise\n",
    "\n",
    "sc = StandardScaler()\n",
    "x_std = sc.fit_transform(x)"
   ]
  },
  {
   "cell_type": "code",
   "execution_count": 27,
   "metadata": {},
   "outputs": [
    {
     "data": {
      "text/plain": [
       "(235, 2)"
      ]
     },
     "execution_count": 27,
     "metadata": {},
     "output_type": "execute_result"
    }
   ],
   "source": [
    "pca = PCA(n_components=2)\n",
    "x_pca = pca.fit_transform(x_std)\n",
    "x_pca.shape"
   ]
  },
  {
   "cell_type": "code",
   "execution_count": 28,
   "metadata": {},
   "outputs": [
    {
     "data": {
      "application/vnd.plotly.v1+json": {
       "config": {
        "plotlyServerURL": "https://plot.ly"
       },
       "data": [
        {
         "marker": {
          "opacity": 0.5,
          "size": 8
         },
         "mode": "markers",
         "type": "scatter",
         "x": [
          -0.22941641738037916,
          -0.6019151685395376,
          -2.0454508619942455,
          0.4862963812056625,
          2.0244715999847447,
          -1.0991179022740623,
          -0.7223480168630976,
          -2.7196137449356352,
          2.0823997573300397,
          1.5039099547852914,
          3.8451551886505038,
          -1.3032804022463782,
          -3.0210071734131647,
          2.6863364525549978,
          1.0159167601680306,
          -1.4230316724755687,
          -0.20061762672323785,
          -0.9111415422047664,
          -0.12115189514261121,
          -1.4365292884142047,
          -0.9824766190309796,
          0.5874270033306479,
          -0.4858828470175723,
          1.0610111543791696,
          -0.8969893372181821,
          0.9741050266214593,
          -0.6065637581881976,
          0.8958863317318818,
          1.6228373326667276,
          3.7838893990118874,
          0.41701125821895313,
          1.4420292909667203,
          -3.430948740216644,
          2.095124148455525,
          2.5386753814899192,
          1.2520727952064665,
          1.373520791525767,
          1.3445991629479344,
          -0.7878458293433147,
          1.4071039033837178,
          3.0360953323216826,
          -1.0031079075022087,
          -0.038835808529520746,
          -0.9047802597662247,
          9.113137850114652,
          -0.8395009011218892,
          -0.5509489828969407,
          -0.20009617300040622,
          4.064853917703351,
          -1.4915112432849533,
          1.5320630691759412,
          1.1052613455328937,
          1.8544987585324086,
          0.4962658714524497,
          -0.5627557114154661,
          -0.48894146804435856,
          -0.4639715186514035,
          -1.1041351187887614,
          -0.641845835879502,
          -2.6497672639726355,
          -1.691632253430097,
          -0.6634330523801031,
          0.11696866937712241,
          0.6678110137549432,
          1.3888941057705522,
          -0.9452613408988283,
          -1.1538042914744702,
          -2.3311820911913093,
          -0.8388311112807181,
          -1.1836462539003794,
          0.2637689634142235,
          -0.6110203753516628,
          -2.1184083772018387,
          -1.6357051424334603,
          -2.0172563980106824,
          -1.4113371536661419,
          -0.7896971491257933,
          -0.07584013849146698,
          2.5676156779212556,
          0.36792693158986317,
          -0.30176791876869724,
          -0.5958489548141682,
          -1.959516285498435,
          -1.2376371059629458,
          0.42083376504885267,
          -0.7227638054384372,
          -1.132635794995524,
          0.49094224844881246,
          1.17454967627095,
          -1.162342499862701,
          -2.1393001078883387,
          -0.9349683937382448,
          2.022685379223226,
          0.39770025603089854,
          -0.9308862606948054,
          -0.4429774423932667,
          -0.09629481038942046,
          0.44796271173055113,
          -0.4758481556728367,
          -0.3902641250751522,
          -0.31529274639797217,
          -0.6674151199830025,
          -0.6253793512595102,
          0.25579422067758495,
          -0.08434725440761803,
          1.065130303776727,
          -4.072650948722767,
          1.2725803166475527,
          -0.7173593021321678,
          -6.080252089880464,
          0.18035504415104645,
          -0.8078806552096027,
          -0.6874981232194387,
          0.9015872071266606,
          -5.004941886759224,
          -1.4552137401110257,
          -0.305125714923361,
          0.18903882538109312,
          -0.8210136314990171,
          -0.7825167064717322,
          -1.1088658338823554,
          1.0607572872383777,
          -2.0120993446554736,
          -0.41188701021760393,
          -0.8429845477550558,
          -1.0633637640084714,
          6.17389857302054,
          2.4126550145188763,
          0.1911367680055604,
          3.407185026678835,
          0.6572986430850868,
          0.04562253562018655,
          -0.7113038473057365,
          -0.527974652795109,
          -0.7164056528578584,
          -0.7227712362440064,
          1.696852205126389,
          3.500177816680744,
          -0.6566896379519555,
          1.5928805571635252,
          0.4962046099632624,
          1.3516188716103854,
          -0.2090777833410846,
          1.0278200024330924,
          3.4375276792607927,
          -0.8910826579810893,
          -0.16512957690837288,
          3.454883692014214,
          0.0959603510848556,
          -1.027355183510428,
          -0.9438667575270466,
          -0.8341624461052569,
          1.833746597998876,
          -0.6909739511547499,
          7.023012262479417,
          0.3950924132848188,
          0.031058413038521145,
          -0.08048468403905912,
          0.18891236472326062,
          -0.8118846523772993,
          0.7741155638815478,
          -0.758267690607582,
          -2.6277528550155704,
          2.6075561551627966,
          -0.8485012062274236,
          -0.5590496963927636,
          0.0491825163613417,
          -0.9837461114481036,
          -0.8960118635843891,
          -0.7874367004173863,
          0.8974709922681401,
          -0.7497557883389321,
          -0.45341804863122864,
          -0.98620179981471,
          0.8415882804775324,
          2.219463881187352,
          -0.24983160356972808,
          2.3812436393465357,
          1.7527071845188653,
          -1.1117893656417022,
          1.7336407758474506,
          -1.022836039226627,
          -0.43666653307709913,
          -0.7662636427183194,
          -1.0877698370278608,
          -0.8278487924057168,
          1.5549368659507403,
          1.143367289842562,
          1.7314715191668193,
          0.6996047838391657,
          0.26412158489736864,
          -1.1029870922976168,
          -1.6027098133140694,
          0.1144177738609111,
          0.11717874486018795,
          -0.48672066773089445,
          -2.608103105212333,
          -0.6470255263148688,
          -0.9748212262707067,
          -0.8634981437317215,
          -1.1849208083268699,
          -0.7275144777897704,
          1.524719162135335,
          0.08404793703614907,
          4.099465200190351,
          -1.0311939255419145,
          3.0418985539781676,
          2.039913317147256,
          -2.319127455174697,
          -0.6872180574362776,
          -0.16262954764561585,
          1.998444515481289,
          -0.43096914133281455,
          -1.1871228323313034,
          -0.4235148371894936,
          0.008375805265414493,
          0.7679162157648081,
          -1.0136927009522252,
          0.8785402008328811,
          -0.7462695981570553,
          0.8684378654484213,
          -1.8448778084241761,
          -1.8721667616426783,
          -0.9619954334279954,
          -0.45561226057894216,
          1.4150240298361627,
          -1.7106469045898107,
          -0.42951953817991945,
          -1.3721771396057398,
          2.074686783303279,
          -0.09806279718559525,
          -1.5126149244780578,
          -0.42447828920923697,
          -1.9104472462355315,
          -0.8352694061558299
         ],
         "y": [
          0.010142921219852758,
          6.11816398463163,
          -0.3724184896340802,
          1.157798017798867,
          -0.28030278964557215,
          -0.3994289032546549,
          -0.7842829447959391,
          -0.10721942459053294,
          0.8033652624150595,
          0.8001988417341397,
          -0.5035171188733886,
          0.014128099092352455,
          -0.7014361038302876,
          -0.8677971932635445,
          0.16230203721738187,
          0.13319489357356343,
          1.1110270219235756,
          0.1702984508273643,
          -0.5951493389145655,
          0.46917532574552107,
          -0.8460401170528455,
          -0.13549445822595052,
          1.5796008054257697,
          -0.31233064282435735,
          3.001091675216677,
          -0.19574474263906694,
          0.999239308695899,
          -0.09785212123347,
          -1.7323971029304022,
          5.853378008040654,
          -2.2107922084871365,
          2.453390201631368,
          -0.5807534616115366,
          -0.26312005004380934,
          -0.7451943029510495,
          0.044463491466373135,
          -1.3864328638154053,
          3.8467887346399317,
          -0.08816323324433854,
          -1.0520966738351563,
          -0.4492919523750422,
          -0.5584637214384127,
          0.1810875139431077,
          -0.016133410829967804,
          -0.47223419817415146,
          0.11167130517320017,
          0.28233220545366416,
          -0.03874883828094286,
          0.4391419896812627,
          -0.30112907460253135,
          0.009857483457901127,
          2.4420978545372,
          -0.38192280825598784,
          -1.0386819940840295,
          -0.19279727739786073,
          -0.5139272643922502,
          0.5501761807907062,
          -0.7227462383043363,
          1.3463896148635952,
          -1.3975625188908367,
          0.7142891537060406,
          -2.7578849198960405,
          -1.3802834419838454,
          -0.3698902903872549,
          -0.2200688462081068,
          0.601936753119094,
          3.961551980817838,
          -1.0276847020704332,
          4.543153824443673,
          0.5740210404008762,
          -3.284093614248638,
          -0.11789916127524123,
          -0.9518235426437959,
          -0.4833521842327512,
          -0.30354265471996617,
          0.4678725299690467,
          4.185184488523407,
          0.06639746782228938,
          -0.004644480707139455,
          -1.6773127097036087,
          -2.0076650477254665,
          0.42767502812535446,
          -0.311843994246858,
          0.01014803640148239,
          -0.6846084326562033,
          -0.38531750955004374,
          -0.5507000380362157,
          -0.0020545895571975996,
          -0.7362385092899044,
          0.09974887524737065,
          -0.4622963289612588,
          -0.02574168350710231,
          -1.2994076696418206,
          -0.8148638212395761,
          0.5660146975917686,
          -0.6659583094278091,
          -0.8794010693096687,
          0.015918177018830585,
          -2.2038046486221705,
          0.006581747724464845,
          -0.21767105253151772,
          -0.834392882738945,
          -0.5513001045353552,
          -0.5889369066796675,
          -0.27444711166791563,
          -4.137155905610264,
          -1.4175253587240466,
          0.469658032234243,
          0.010825718571658725,
          -3.282214424279368,
          -0.7679065895924183,
          0.736203688816352,
          0.7464257724845611,
          -0.6249736027278769,
          -0.8725757952976366,
          -0.7895489363745504,
          -0.05713470248216837,
          0.6150407416583967,
          -0.18772283713952517,
          -0.8890376552523127,
          -0.824120751155245,
          -0.3070571834041801,
          0.5034598839914063,
          0.4303067888327867,
          -1.1100029170223202,
          0.3867346769754859,
          4.016809229897926,
          -0.9796395548515503,
          -1.1428516265036996,
          -0.19925005981130253,
          2.4920493151147625,
          1.6007666557843465,
          0.9432652057766783,
          -0.7732409612685924,
          3.2336458368848344,
          -1.2774954845897224,
          -0.5658334643935027,
          0.49719061071842496,
          1.5767450133091272,
          -0.07908790783963225,
          1.5072887578720757,
          0.9006207679078194,
          1.322453511761097,
          -0.46437149505884534,
          -1.2153710003088058,
          -0.049824071114635944,
          -0.22058965933433758,
          0.31475133825725365,
          0.07347152470004742,
          0.220193058327051,
          0.6943056679319309,
          0.029965193151074994,
          -0.6331816825159722,
          -0.6743553594767088,
          -5.737639538263402,
          1.2374384348671144,
          -0.4876686023673945,
          -0.8820796893245424,
          -0.640244846655289,
          1.1578612106910269,
          -0.3662050468905313,
          3.834536768029236,
          -0.9207942627846174,
          2.0799247120159463,
          -0.49120711585626764,
          0.01815510454772168,
          0.2971186624748982,
          -0.18567161930306236,
          -0.5079493099053012,
          -1.6047612761558117,
          -0.6866360178921966,
          0.3083632491493949,
          1.6327807325062413,
          -0.8033598277341544,
          -2.110244142982574,
          -0.31959637744924746,
          6.745429271525705,
          -0.23542143841776075,
          -0.01844207409899371,
          0.002045933691752961,
          0.1745309752349904,
          -0.8261969277490034,
          0.18904436518277304,
          0.9936212917379154,
          8.320503857780237,
          0.42339601470182253,
          -0.456274387657928,
          -0.9022620399971585,
          -1.1915838504853344,
          0.9869821607418808,
          0.2512574728141727,
          -0.7763018508196501,
          -1.989771089960141,
          0.29480795538793203,
          0.19272510712742413,
          -0.3043467917760322,
          0.032091449150515004,
          -0.020591666932281705,
          -0.06259022308458005,
          1.8268749442335428,
          -0.08755088287401677,
          0.2962769885283797,
          1.6768067789978633,
          -0.7463178276514251,
          -1.9877710768308583,
          -0.1486854769187376,
          -2.009532987140448,
          -0.2842039764260967,
          0.07531353519206022,
          -2.338759384090823,
          -0.5881280274379231,
          0.4605610966604923,
          -0.22989885286714384,
          3.2692075918536485,
          -2.1803752154985325,
          -0.4813166045741909,
          -0.2097327353959639,
          -0.5600157553177963,
          -0.4001558299224032,
          -0.1540712264245458,
          -0.20302314902995044,
          -1.3200833558870886,
          -0.2545403482911668,
          0.5267722284082756,
          0.3579286136890341,
          -0.8457676763732719,
          0.012706555956884117,
          -0.8442087750034973,
          -0.7694752203302297,
          0.8326360660772683,
          -0.17276496426223195,
          -0.7584097753301148,
          -1.4564520770814882,
          0.00769773595487481,
          -0.6506848436211571
         ]
        }
       ],
       "layout": {
        "template": {
         "data": {
          "bar": [
           {
            "error_x": {
             "color": "#2a3f5f"
            },
            "error_y": {
             "color": "#2a3f5f"
            },
            "marker": {
             "line": {
              "color": "#E5ECF6",
              "width": 0.5
             },
             "pattern": {
              "fillmode": "overlay",
              "size": 10,
              "solidity": 0.2
             }
            },
            "type": "bar"
           }
          ],
          "barpolar": [
           {
            "marker": {
             "line": {
              "color": "#E5ECF6",
              "width": 0.5
             },
             "pattern": {
              "fillmode": "overlay",
              "size": 10,
              "solidity": 0.2
             }
            },
            "type": "barpolar"
           }
          ],
          "carpet": [
           {
            "aaxis": {
             "endlinecolor": "#2a3f5f",
             "gridcolor": "white",
             "linecolor": "white",
             "minorgridcolor": "white",
             "startlinecolor": "#2a3f5f"
            },
            "baxis": {
             "endlinecolor": "#2a3f5f",
             "gridcolor": "white",
             "linecolor": "white",
             "minorgridcolor": "white",
             "startlinecolor": "#2a3f5f"
            },
            "type": "carpet"
           }
          ],
          "choropleth": [
           {
            "colorbar": {
             "outlinewidth": 0,
             "ticks": ""
            },
            "type": "choropleth"
           }
          ],
          "contour": [
           {
            "colorbar": {
             "outlinewidth": 0,
             "ticks": ""
            },
            "colorscale": [
             [
              0,
              "#0d0887"
             ],
             [
              0.1111111111111111,
              "#46039f"
             ],
             [
              0.2222222222222222,
              "#7201a8"
             ],
             [
              0.3333333333333333,
              "#9c179e"
             ],
             [
              0.4444444444444444,
              "#bd3786"
             ],
             [
              0.5555555555555556,
              "#d8576b"
             ],
             [
              0.6666666666666666,
              "#ed7953"
             ],
             [
              0.7777777777777778,
              "#fb9f3a"
             ],
             [
              0.8888888888888888,
              "#fdca26"
             ],
             [
              1,
              "#f0f921"
             ]
            ],
            "type": "contour"
           }
          ],
          "contourcarpet": [
           {
            "colorbar": {
             "outlinewidth": 0,
             "ticks": ""
            },
            "type": "contourcarpet"
           }
          ],
          "heatmap": [
           {
            "colorbar": {
             "outlinewidth": 0,
             "ticks": ""
            },
            "colorscale": [
             [
              0,
              "#0d0887"
             ],
             [
              0.1111111111111111,
              "#46039f"
             ],
             [
              0.2222222222222222,
              "#7201a8"
             ],
             [
              0.3333333333333333,
              "#9c179e"
             ],
             [
              0.4444444444444444,
              "#bd3786"
             ],
             [
              0.5555555555555556,
              "#d8576b"
             ],
             [
              0.6666666666666666,
              "#ed7953"
             ],
             [
              0.7777777777777778,
              "#fb9f3a"
             ],
             [
              0.8888888888888888,
              "#fdca26"
             ],
             [
              1,
              "#f0f921"
             ]
            ],
            "type": "heatmap"
           }
          ],
          "heatmapgl": [
           {
            "colorbar": {
             "outlinewidth": 0,
             "ticks": ""
            },
            "colorscale": [
             [
              0,
              "#0d0887"
             ],
             [
              0.1111111111111111,
              "#46039f"
             ],
             [
              0.2222222222222222,
              "#7201a8"
             ],
             [
              0.3333333333333333,
              "#9c179e"
             ],
             [
              0.4444444444444444,
              "#bd3786"
             ],
             [
              0.5555555555555556,
              "#d8576b"
             ],
             [
              0.6666666666666666,
              "#ed7953"
             ],
             [
              0.7777777777777778,
              "#fb9f3a"
             ],
             [
              0.8888888888888888,
              "#fdca26"
             ],
             [
              1,
              "#f0f921"
             ]
            ],
            "type": "heatmapgl"
           }
          ],
          "histogram": [
           {
            "marker": {
             "pattern": {
              "fillmode": "overlay",
              "size": 10,
              "solidity": 0.2
             }
            },
            "type": "histogram"
           }
          ],
          "histogram2d": [
           {
            "colorbar": {
             "outlinewidth": 0,
             "ticks": ""
            },
            "colorscale": [
             [
              0,
              "#0d0887"
             ],
             [
              0.1111111111111111,
              "#46039f"
             ],
             [
              0.2222222222222222,
              "#7201a8"
             ],
             [
              0.3333333333333333,
              "#9c179e"
             ],
             [
              0.4444444444444444,
              "#bd3786"
             ],
             [
              0.5555555555555556,
              "#d8576b"
             ],
             [
              0.6666666666666666,
              "#ed7953"
             ],
             [
              0.7777777777777778,
              "#fb9f3a"
             ],
             [
              0.8888888888888888,
              "#fdca26"
             ],
             [
              1,
              "#f0f921"
             ]
            ],
            "type": "histogram2d"
           }
          ],
          "histogram2dcontour": [
           {
            "colorbar": {
             "outlinewidth": 0,
             "ticks": ""
            },
            "colorscale": [
             [
              0,
              "#0d0887"
             ],
             [
              0.1111111111111111,
              "#46039f"
             ],
             [
              0.2222222222222222,
              "#7201a8"
             ],
             [
              0.3333333333333333,
              "#9c179e"
             ],
             [
              0.4444444444444444,
              "#bd3786"
             ],
             [
              0.5555555555555556,
              "#d8576b"
             ],
             [
              0.6666666666666666,
              "#ed7953"
             ],
             [
              0.7777777777777778,
              "#fb9f3a"
             ],
             [
              0.8888888888888888,
              "#fdca26"
             ],
             [
              1,
              "#f0f921"
             ]
            ],
            "type": "histogram2dcontour"
           }
          ],
          "mesh3d": [
           {
            "colorbar": {
             "outlinewidth": 0,
             "ticks": ""
            },
            "type": "mesh3d"
           }
          ],
          "parcoords": [
           {
            "line": {
             "colorbar": {
              "outlinewidth": 0,
              "ticks": ""
             }
            },
            "type": "parcoords"
           }
          ],
          "pie": [
           {
            "automargin": true,
            "type": "pie"
           }
          ],
          "scatter": [
           {
            "marker": {
             "colorbar": {
              "outlinewidth": 0,
              "ticks": ""
             }
            },
            "type": "scatter"
           }
          ],
          "scatter3d": [
           {
            "line": {
             "colorbar": {
              "outlinewidth": 0,
              "ticks": ""
             }
            },
            "marker": {
             "colorbar": {
              "outlinewidth": 0,
              "ticks": ""
             }
            },
            "type": "scatter3d"
           }
          ],
          "scattercarpet": [
           {
            "marker": {
             "colorbar": {
              "outlinewidth": 0,
              "ticks": ""
             }
            },
            "type": "scattercarpet"
           }
          ],
          "scattergeo": [
           {
            "marker": {
             "colorbar": {
              "outlinewidth": 0,
              "ticks": ""
             }
            },
            "type": "scattergeo"
           }
          ],
          "scattergl": [
           {
            "marker": {
             "colorbar": {
              "outlinewidth": 0,
              "ticks": ""
             }
            },
            "type": "scattergl"
           }
          ],
          "scattermapbox": [
           {
            "marker": {
             "colorbar": {
              "outlinewidth": 0,
              "ticks": ""
             }
            },
            "type": "scattermapbox"
           }
          ],
          "scatterpolar": [
           {
            "marker": {
             "colorbar": {
              "outlinewidth": 0,
              "ticks": ""
             }
            },
            "type": "scatterpolar"
           }
          ],
          "scatterpolargl": [
           {
            "marker": {
             "colorbar": {
              "outlinewidth": 0,
              "ticks": ""
             }
            },
            "type": "scatterpolargl"
           }
          ],
          "scatterternary": [
           {
            "marker": {
             "colorbar": {
              "outlinewidth": 0,
              "ticks": ""
             }
            },
            "type": "scatterternary"
           }
          ],
          "surface": [
           {
            "colorbar": {
             "outlinewidth": 0,
             "ticks": ""
            },
            "colorscale": [
             [
              0,
              "#0d0887"
             ],
             [
              0.1111111111111111,
              "#46039f"
             ],
             [
              0.2222222222222222,
              "#7201a8"
             ],
             [
              0.3333333333333333,
              "#9c179e"
             ],
             [
              0.4444444444444444,
              "#bd3786"
             ],
             [
              0.5555555555555556,
              "#d8576b"
             ],
             [
              0.6666666666666666,
              "#ed7953"
             ],
             [
              0.7777777777777778,
              "#fb9f3a"
             ],
             [
              0.8888888888888888,
              "#fdca26"
             ],
             [
              1,
              "#f0f921"
             ]
            ],
            "type": "surface"
           }
          ],
          "table": [
           {
            "cells": {
             "fill": {
              "color": "#EBF0F8"
             },
             "line": {
              "color": "white"
             }
            },
            "header": {
             "fill": {
              "color": "#C8D4E3"
             },
             "line": {
              "color": "white"
             }
            },
            "type": "table"
           }
          ]
         },
         "layout": {
          "annotationdefaults": {
           "arrowcolor": "#2a3f5f",
           "arrowhead": 0,
           "arrowwidth": 1
          },
          "autotypenumbers": "strict",
          "coloraxis": {
           "colorbar": {
            "outlinewidth": 0,
            "ticks": ""
           }
          },
          "colorscale": {
           "diverging": [
            [
             0,
             "#8e0152"
            ],
            [
             0.1,
             "#c51b7d"
            ],
            [
             0.2,
             "#de77ae"
            ],
            [
             0.3,
             "#f1b6da"
            ],
            [
             0.4,
             "#fde0ef"
            ],
            [
             0.5,
             "#f7f7f7"
            ],
            [
             0.6,
             "#e6f5d0"
            ],
            [
             0.7,
             "#b8e186"
            ],
            [
             0.8,
             "#7fbc41"
            ],
            [
             0.9,
             "#4d9221"
            ],
            [
             1,
             "#276419"
            ]
           ],
           "sequential": [
            [
             0,
             "#0d0887"
            ],
            [
             0.1111111111111111,
             "#46039f"
            ],
            [
             0.2222222222222222,
             "#7201a8"
            ],
            [
             0.3333333333333333,
             "#9c179e"
            ],
            [
             0.4444444444444444,
             "#bd3786"
            ],
            [
             0.5555555555555556,
             "#d8576b"
            ],
            [
             0.6666666666666666,
             "#ed7953"
            ],
            [
             0.7777777777777778,
             "#fb9f3a"
            ],
            [
             0.8888888888888888,
             "#fdca26"
            ],
            [
             1,
             "#f0f921"
            ]
           ],
           "sequentialminus": [
            [
             0,
             "#0d0887"
            ],
            [
             0.1111111111111111,
             "#46039f"
            ],
            [
             0.2222222222222222,
             "#7201a8"
            ],
            [
             0.3333333333333333,
             "#9c179e"
            ],
            [
             0.4444444444444444,
             "#bd3786"
            ],
            [
             0.5555555555555556,
             "#d8576b"
            ],
            [
             0.6666666666666666,
             "#ed7953"
            ],
            [
             0.7777777777777778,
             "#fb9f3a"
            ],
            [
             0.8888888888888888,
             "#fdca26"
            ],
            [
             1,
             "#f0f921"
            ]
           ]
          },
          "colorway": [
           "#636efa",
           "#EF553B",
           "#00cc96",
           "#ab63fa",
           "#FFA15A",
           "#19d3f3",
           "#FF6692",
           "#B6E880",
           "#FF97FF",
           "#FECB52"
          ],
          "font": {
           "color": "#2a3f5f"
          },
          "geo": {
           "bgcolor": "white",
           "lakecolor": "white",
           "landcolor": "#E5ECF6",
           "showlakes": true,
           "showland": true,
           "subunitcolor": "white"
          },
          "hoverlabel": {
           "align": "left"
          },
          "hovermode": "closest",
          "mapbox": {
           "style": "light"
          },
          "paper_bgcolor": "white",
          "plot_bgcolor": "#E5ECF6",
          "polar": {
           "angularaxis": {
            "gridcolor": "white",
            "linecolor": "white",
            "ticks": ""
           },
           "bgcolor": "#E5ECF6",
           "radialaxis": {
            "gridcolor": "white",
            "linecolor": "white",
            "ticks": ""
           }
          },
          "scene": {
           "xaxis": {
            "backgroundcolor": "#E5ECF6",
            "gridcolor": "white",
            "gridwidth": 2,
            "linecolor": "white",
            "showbackground": true,
            "ticks": "",
            "zerolinecolor": "white"
           },
           "yaxis": {
            "backgroundcolor": "#E5ECF6",
            "gridcolor": "white",
            "gridwidth": 2,
            "linecolor": "white",
            "showbackground": true,
            "ticks": "",
            "zerolinecolor": "white"
           },
           "zaxis": {
            "backgroundcolor": "#E5ECF6",
            "gridcolor": "white",
            "gridwidth": 2,
            "linecolor": "white",
            "showbackground": true,
            "ticks": "",
            "zerolinecolor": "white"
           }
          },
          "shapedefaults": {
           "line": {
            "color": "#2a3f5f"
           }
          },
          "ternary": {
           "aaxis": {
            "gridcolor": "white",
            "linecolor": "white",
            "ticks": ""
           },
           "baxis": {
            "gridcolor": "white",
            "linecolor": "white",
            "ticks": ""
           },
           "bgcolor": "#E5ECF6",
           "caxis": {
            "gridcolor": "white",
            "linecolor": "white",
            "ticks": ""
           }
          },
          "title": {
           "x": 0.05
          },
          "xaxis": {
           "automargin": true,
           "gridcolor": "white",
           "linecolor": "white",
           "ticks": "",
           "title": {
            "standoff": 15
           },
           "zerolinecolor": "white",
           "zerolinewidth": 2
          },
          "yaxis": {
           "automargin": true,
           "gridcolor": "white",
           "linecolor": "white",
           "ticks": "",
           "title": {
            "standoff": 15
           },
           "zerolinecolor": "white",
           "zerolinewidth": 2
          }
         }
        },
        "xaxis": {
         "title": {
          "text": "PCA 1"
         }
        },
        "yaxis": {
         "scaleanchor": "x",
         "scaleratio": 1,
         "title": {
          "text": "PCA 2"
         }
        }
       }
      }
     },
     "metadata": {},
     "output_type": "display_data"
    }
   ],
   "source": [
    "#PCA 2D plot\n",
    "# \"\"\"axis-label name\"\"\"\n",
    "x_lbl, y_lbl = 'PCA 1', 'PCA 2'\n",
    "\n",
    "# \"\"\"data at eact axis to plot\"\"\"\n",
    "x_plot, y_plot = x_pca[:,0], x_pca[:,1]\n",
    "\n",
    "\n",
    "fig = go.Figure(data=[go.Scatter(x=x_plot, y=y_plot, mode='markers', \n",
    "                marker=dict(size=8,opacity=0.5))])\n",
    "fig.update_layout(xaxis_title=x_lbl, yaxis_title=y_lbl,\n",
    "    yaxis = dict(scaleanchor = \"x\",scaleratio = 1) )\n",
    "fig.show()"
   ]
  },
  {
   "cell_type": "code",
   "execution_count": 29,
   "metadata": {},
   "outputs": [],
   "source": [
    "# # try \n",
    "# pca = PCA(n_components=3)\n",
    "# x_pca = pca.fit_transform(x_std)\n",
    "\n",
    "# #PCA 3D plot\n",
    "# x_lbl, y_lbl, z_lbl = 'PCA 1', 'PCA 2', 'PCA 3'\n",
    "\n",
    "# x, y, z = x_pca[:,0], x_pca[:,1], x_pca[:,2]\n",
    "\n",
    "# fig = go.Figure(data=[go.Scatter3d(x=x, y=y, z=z,mode='markers', marker=dict(size=8,opacity=0.5), name=\"data\" )])\n",
    "# fig.update_layout( xaxis_title=x_lbl, yaxis_title=y_lbl, yaxis = dict(scaleanchor = \"x\",scaleratio = 1) )\n",
    "# fig.show()"
   ]
  },
  {
   "cell_type": "markdown",
   "metadata": {},
   "source": [
    "## 3. Kmeans clustering"
   ]
  },
  {
   "cell_type": "markdown",
   "metadata": {},
   "source": [
    "#### Elbow testing"
   ]
  },
  {
   "cell_type": "code",
   "execution_count": 52,
   "metadata": {},
   "outputs": [],
   "source": [
    "from sklearn.preprocessing import StandardScaler\n",
    "scaler = StandardScaler()\n",
    "scaled_df = scaler.fit_transform(bank_bhv)"
   ]
  },
  {
   "cell_type": "code",
   "execution_count": 53,
   "metadata": {},
   "outputs": [
    {
     "data": {
      "image/png": "[encoded data removed]",
      "text/plain": [
       "<Figure size 576x396 with 2 Axes>"
      ]
     },
     "metadata": {},
     "output_type": "display_data"
    },
    {
     "data": {
      "text/plain": [
       "<AxesSubplot:title={'center':'Distortion Score Elbow for KMeans Clustering'}, xlabel='k', ylabel='distortion score'>"
      ]
     },
     "execution_count": 53,
     "metadata": {},
     "output_type": "execute_result"
    }
   ],
   "source": [
    "from sklearn.cluster import KMeans\n",
    "from yellowbrick.cluster import KElbowVisualizer\n",
    "from sklearn import metrics\n",
    "\n",
    "model = KMeans()\n",
    "visualizer = KElbowVisualizer(model, k=(1,10))\n",
    "visualizer.fit(scaled_df)    \n",
    "visualizer.poof()"
   ]
  },
  {
   "cell_type": "code",
   "execution_count": 54,
   "metadata": {},
   "outputs": [
    {
     "data": {
      "image/png": "[encoded data removed]",
      "text/plain": [
       "<Figure size 1080x576 with 1 Axes>"
      ]
     },
     "metadata": {},
     "output_type": "display_data"
    }
   ],
   "source": [
    "wcss = []\n",
    "for i in range(1, 11):\n",
    "    km = KMeans(n_clusters = i, init = 'k-means++', max_iter = 300, n_init = 10, random_state = 0)\n",
    "    km.fit(scaled_df)\n",
    "    wcss.append(km.inertia_)\n",
    "\n",
    "plt.figure(figsize=(15,8))\n",
    "plt.plot(range(1, 11), wcss)\n",
    "plt.title('The Elbow Method', fontsize = 15)\n",
    "plt.xlabel('No. of Clusters', fontsize = 12)\n",
    "plt.ylabel('wcss', fontsize = 12)\n",
    "plt.show()  "
   ]
  },
  {
   "cell_type": "code",
   "execution_count": 55,
   "metadata": {},
   "outputs": [],
   "source": [
    "# n_cluster = 4\n",
    "km = KMeans(n_clusters=4)\n",
    "y_km = km.fit_predict(scaled_df)"
   ]
  },
  {
   "cell_type": "code",
   "execution_count": 56,
   "metadata": {},
   "outputs": [],
   "source": [
    "def plot_clusters(X,y_res, plt_cluster_centers = False):\n",
    "    X_centroids = []\n",
    "    Y_centroids = []\n",
    "\n",
    "    for cluster in set(y_res):\n",
    "        x = X[y_res == cluster, 0]\n",
    "        y = X[y_res == cluster, 1]\n",
    "        X_centroids.append(np.mean(x))\n",
    "        Y_centroids.append(np.mean(y))\n",
    "\n",
    "        plt.scatter(x,\n",
    "                    y,\n",
    "                    s=50,\n",
    "                    marker='s',\n",
    "                    label=f'cluster {cluster}')\n",
    "\n",
    "    if plt_cluster_centers:\n",
    "        plt.scatter(X_centroids,\n",
    "                    Y_centroids,\n",
    "                    marker='*',\n",
    "                    c='black',\n",
    "                    s=250,\n",
    "                    label='centroids')\n",
    "    plt.legend()\n",
    "    plt.show()"
   ]
  },
  {
   "cell_type": "code",
   "execution_count": 57,
   "metadata": {},
   "outputs": [
    {
     "data": {
      "image/png": "[encoded data removed]",
      "text/plain": [
       "<Figure size 864x720 with 1 Axes>"
      ]
     },
     "metadata": {},
     "output_type": "display_data"
    }
   ],
   "source": [
    "# customer demographics\n",
    "from matplotlib.pyplot import figure\n",
    "figure(figsize=(12, 10))\n",
    "plt.grid(None)\n",
    "plot_clusters(x_pca, y_km, plt_cluster_centers= True)\n"
   ]
  },
  {
   "cell_type": "markdown",
   "metadata": {},
   "source": [
    "### Radar plot"
   ]
  },
  {
   "cell_type": "code",
   "execution_count": 58,
   "metadata": {},
   "outputs": [
    {
     "data": {
      "text/html": [
       "<div>\n",
       "<style scoped>\n",
       "    .dataframe tbody tr th:only-of-type {\n",
       "        vertical-align: middle;\n",
       "    }\n",
       "\n",
       "    .dataframe tbody tr th {\n",
       "        vertical-align: top;\n",
       "    }\n",
       "\n",
       "    .dataframe thead th {\n",
       "        text-align: right;\n",
       "    }\n",
       "</style>\n",
       "<table border=\"1\" class=\"dataframe\">\n",
       "  <thead>\n",
       "    <tr style=\"text-align: right;\">\n",
       "      <th></th>\n",
       "      <th>credit_limit</th>\n",
       "      <th>change_in_debts</th>\n",
       "      <th>change_in_savings</th>\n",
       "      <th>income</th>\n",
       "      <th>years_with_bank</th>\n",
       "      <th>sav_trans_count</th>\n",
       "      <th>sav_trans_sum</th>\n",
       "      <th>sav_trans_avg</th>\n",
       "      <th>cre_trans_count</th>\n",
       "      <th>cre_trans_sum</th>\n",
       "      <th>cre_trans_avg</th>\n",
       "    </tr>\n",
       "    <tr>\n",
       "      <th>cluster</th>\n",
       "      <th></th>\n",
       "      <th></th>\n",
       "      <th></th>\n",
       "      <th></th>\n",
       "      <th></th>\n",
       "      <th></th>\n",
       "      <th></th>\n",
       "      <th></th>\n",
       "      <th></th>\n",
       "      <th></th>\n",
       "      <th></th>\n",
       "    </tr>\n",
       "  </thead>\n",
       "  <tbody>\n",
       "    <tr>\n",
       "      <th>0</th>\n",
       "      <td>0.669375</td>\n",
       "      <td>0.597794</td>\n",
       "      <td>1.029586</td>\n",
       "      <td>0.326231</td>\n",
       "      <td>0.980866</td>\n",
       "      <td>0.991354</td>\n",
       "      <td>1.029511</td>\n",
       "      <td>1.054968</td>\n",
       "      <td>0.998671</td>\n",
       "      <td>0.530292</td>\n",
       "      <td>0.993826</td>\n",
       "    </tr>\n",
       "    <tr>\n",
       "      <th>1</th>\n",
       "      <td>1.888738</td>\n",
       "      <td>1.195706</td>\n",
       "      <td>0.575833</td>\n",
       "      <td>2.141900</td>\n",
       "      <td>1.021246</td>\n",
       "      <td>1.004527</td>\n",
       "      <td>0.576240</td>\n",
       "      <td>0.700969</td>\n",
       "      <td>0.927116</td>\n",
       "      <td>0.933790</td>\n",
       "      <td>0.083033</td>\n",
       "    </tr>\n",
       "    <tr>\n",
       "      <th>2</th>\n",
       "      <td>0.876008</td>\n",
       "      <td>0.985331</td>\n",
       "      <td>1.029516</td>\n",
       "      <td>1.100103</td>\n",
       "      <td>0.979053</td>\n",
       "      <td>1.011061</td>\n",
       "      <td>1.029356</td>\n",
       "      <td>0.991268</td>\n",
       "      <td>1.041825</td>\n",
       "      <td>1.111932</td>\n",
       "      <td>1.532587</td>\n",
       "    </tr>\n",
       "    <tr>\n",
       "      <th>3</th>\n",
       "      <td>2.817533</td>\n",
       "      <td>6.480983</td>\n",
       "      <td>2.500361</td>\n",
       "      <td>4.355434</td>\n",
       "      <td>1.424476</td>\n",
       "      <td>0.987701</td>\n",
       "      <td>2.501146</td>\n",
       "      <td>1.850232</td>\n",
       "      <td>0.944700</td>\n",
       "      <td>7.544423</td>\n",
       "      <td>0.065097</td>\n",
       "    </tr>\n",
       "  </tbody>\n",
       "</table>\n",
       "</div>"
      ],
      "text/plain": [
       "         credit_limit  change_in_debts  change_in_savings    income  \\\n",
       "cluster                                                               \n",
       "0            0.669375         0.597794           1.029586  0.326231   \n",
       "1            1.888738         1.195706           0.575833  2.141900   \n",
       "2            0.876008         0.985331           1.029516  1.100103   \n",
       "3            2.817533         6.480983           2.500361  4.355434   \n",
       "\n",
       "         years_with_bank  sav_trans_count  sav_trans_sum  sav_trans_avg  \\\n",
       "cluster                                                                   \n",
       "0               0.980866         0.991354       1.029511       1.054968   \n",
       "1               1.021246         1.004527       0.576240       0.700969   \n",
       "2               0.979053         1.011061       1.029356       0.991268   \n",
       "3               1.424476         0.987701       2.501146       1.850232   \n",
       "\n",
       "         cre_trans_count  cre_trans_sum  cre_trans_avg  \n",
       "cluster                                                 \n",
       "0               0.998671       0.530292       0.993826  \n",
       "1               0.927116       0.933790       0.083033  \n",
       "2               1.041825       1.111932       1.532587  \n",
       "3               0.944700       7.544423       0.065097  "
      ]
     },
     "execution_count": 58,
     "metadata": {},
     "output_type": "execute_result"
    }
   ],
   "source": [
    "bank_bhv['cluster'] = KMeans(n_clusters=4, n_init=10).fit_predict(bank_bhv)\n",
    "bank_bhv['cluster'].value_counts()\n",
    "df_radar = bank_bhv.groupby('cluster').mean().divide(bank_bhv.drop('cluster',axis=1).mean())\n",
    "df_radar.head()"
   ]
  },
  {
   "cell_type": "code",
   "execution_count": 59,
   "metadata": {},
   "outputs": [
    {
     "data": {
      "application/vnd.plotly.v1+json": {
       "config": {
        "plotlyServerURL": "https://plot.ly"
       },
       "data": [
        {
         "fill": "toself",
         "name": "Cluster 0 ",
         "r": [
          0.6693748872196149,
          0.5977941395031164,
          1.029586190847736,
          0.32623082037930234,
          0.9808661872882056,
          0.9913536949771077,
          1.0295109009147867,
          1.0549677136393099,
          0.9986714825424503,
          0.5302915156560508,
          0.99382588711081
         ],
         "theta": [
          "credit_limit",
          "change_in_debts",
          "change_in_savings",
          "income",
          "years_with_bank",
          "sav_trans_count",
          "sav_trans_sum",
          "sav_trans_avg",
          "cre_trans_count",
          "cre_trans_sum",
          "cre_trans_avg"
         ],
         "type": "scatterpolar"
        },
        {
         "fill": "toself",
         "name": "Cluster 1 ",
         "r": [
          1.8887383580620147,
          1.1957061764382204,
          0.5758334306046786,
          2.1419003718711966,
          1.0212457749879285,
          1.0045272285700313,
          0.5762404656425504,
          0.7009689971250009,
          0.9271161775406258,
          0.9337902732157782,
          0.08303260747137736
         ],
         "theta": [
          "credit_limit",
          "change_in_debts",
          "change_in_savings",
          "income",
          "years_with_bank",
          "sav_trans_count",
          "sav_trans_sum",
          "sav_trans_avg",
          "cre_trans_count",
          "cre_trans_sum",
          "cre_trans_avg"
         ],
         "type": "scatterpolar"
        },
        {
         "fill": "toself",
         "name": "Cluster 2 ",
         "r": [
          0.8760076188241113,
          0.9853308125713437,
          1.0295156551062723,
          1.1001028695308384,
          0.9790529555220067,
          1.011060758709637,
          1.0293560997044695,
          0.9912675576724936,
          1.041824651461238,
          1.1119323089562247,
          1.5325874741363614
         ],
         "theta": [
          "credit_limit",
          "change_in_debts",
          "change_in_savings",
          "income",
          "years_with_bank",
          "sav_trans_count",
          "sav_trans_sum",
          "sav_trans_avg",
          "cre_trans_count",
          "cre_trans_sum",
          "cre_trans_avg"
         ],
         "type": "scatterpolar"
        },
        {
         "fill": "toself",
         "name": "Cluster 3 ",
         "r": [
          2.8175325750230567,
          6.4809830881950905,
          2.5003608142182663,
          4.355434016265108,
          1.4244757536041939,
          0.9877007476883599,
          2.5011457753412403,
          1.8502321198799405,
          0.9447004608294931,
          7.544422710348159,
          0.0650967128593039
         ],
         "theta": [
          "credit_limit",
          "change_in_debts",
          "change_in_savings",
          "income",
          "years_with_bank",
          "sav_trans_count",
          "sav_trans_sum",
          "sav_trans_avg",
          "cre_trans_count",
          "cre_trans_sum",
          "cre_trans_avg"
         ],
         "type": "scatterpolar"
        }
       ],
       "layout": {
        "polar": {
         "radialaxis": {
          "visible": true
         }
        },
        "showlegend": true,
        "template": {
         "data": {
          "bar": [
           {
            "error_x": {
             "color": "#2a3f5f"
            },
            "error_y": {
             "color": "#2a3f5f"
            },
            "marker": {
             "line": {
              "color": "#E5ECF6",
              "width": 0.5
             },
             "pattern": {
              "fillmode": "overlay",
              "size": 10,
              "solidity": 0.2
             }
            },
            "type": "bar"
           }
          ],
          "barpolar": [
           {
            "marker": {
             "line": {
              "color": "#E5ECF6",
              "width": 0.5
             },
             "pattern": {
              "fillmode": "overlay",
              "size": 10,
              "solidity": 0.2
             }
            },
            "type": "barpolar"
           }
          ],
          "carpet": [
           {
            "aaxis": {
             "endlinecolor": "#2a3f5f",
             "gridcolor": "white",
             "linecolor": "white",
             "minorgridcolor": "white",
             "startlinecolor": "#2a3f5f"
            },
            "baxis": {
             "endlinecolor": "#2a3f5f",
             "gridcolor": "white",
             "linecolor": "white",
             "minorgridcolor": "white",
             "startlinecolor": "#2a3f5f"
            },
            "type": "carpet"
           }
          ],
          "choropleth": [
           {
            "colorbar": {
             "outlinewidth": 0,
             "ticks": ""
            },
            "type": "choropleth"
           }
          ],
          "contour": [
           {
            "colorbar": {
             "outlinewidth": 0,
             "ticks": ""
            },
            "colorscale": [
             [
              0,
              "#0d0887"
             ],
             [
              0.1111111111111111,
              "#46039f"
             ],
             [
              0.2222222222222222,
              "#7201a8"
             ],
             [
              0.3333333333333333,
              "#9c179e"
             ],
             [
              0.4444444444444444,
              "#bd3786"
             ],
             [
              0.5555555555555556,
              "#d8576b"
             ],
             [
              0.6666666666666666,
              "#ed7953"
             ],
             [
              0.7777777777777778,
              "#fb9f3a"
             ],
             [
              0.8888888888888888,
              "#fdca26"
             ],
             [
              1,
              "#f0f921"
             ]
            ],
            "type": "contour"
           }
          ],
          "contourcarpet": [
           {
            "colorbar": {
             "outlinewidth": 0,
             "ticks": ""
            },
            "type": "contourcarpet"
           }
          ],
          "heatmap": [
           {
            "colorbar": {
             "outlinewidth": 0,
             "ticks": ""
            },
            "colorscale": [
             [
              0,
              "#0d0887"
             ],
             [
              0.1111111111111111,
              "#46039f"
             ],
             [
              0.2222222222222222,
              "#7201a8"
             ],
             [
              0.3333333333333333,
              "#9c179e"
             ],
             [
              0.4444444444444444,
              "#bd3786"
             ],
             [
              0.5555555555555556,
              "#d8576b"
             ],
             [
              0.6666666666666666,
              "#ed7953"
             ],
             [
              0.7777777777777778,
              "#fb9f3a"
             ],
             [
              0.8888888888888888,
              "#fdca26"
             ],
             [
              1,
              "#f0f921"
             ]
            ],
            "type": "heatmap"
           }
          ],
          "heatmapgl": [
           {
            "colorbar": {
             "outlinewidth": 0,
             "ticks": ""
            },
            "colorscale": [
             [
              0,
              "#0d0887"
             ],
             [
              0.1111111111111111,
              "#46039f"
             ],
             [
              0.2222222222222222,
              "#7201a8"
             ],
             [
              0.3333333333333333,
              "#9c179e"
             ],
             [
              0.4444444444444444,
              "#bd3786"
             ],
             [
              0.5555555555555556,
              "#d8576b"
             ],
             [
              0.6666666666666666,
              "#ed7953"
             ],
             [
              0.7777777777777778,
              "#fb9f3a"
             ],
             [
              0.8888888888888888,
              "#fdca26"
             ],
             [
              1,
              "#f0f921"
             ]
            ],
            "type": "heatmapgl"
           }
          ],
          "histogram": [
           {
            "marker": {
             "pattern": {
              "fillmode": "overlay",
              "size": 10,
              "solidity": 0.2
             }
            },
            "type": "histogram"
           }
          ],
          "histogram2d": [
           {
            "colorbar": {
             "outlinewidth": 0,
             "ticks": ""
            },
            "colorscale": [
             [
              0,
              "#0d0887"
             ],
             [
              0.1111111111111111,
              "#46039f"
             ],
             [
              0.2222222222222222,
              "#7201a8"
             ],
             [
              0.3333333333333333,
              "#9c179e"
             ],
             [
              0.4444444444444444,
              "#bd3786"
             ],
             [
              0.5555555555555556,
              "#d8576b"
             ],
             [
              0.6666666666666666,
              "#ed7953"
             ],
             [
              0.7777777777777778,
              "#fb9f3a"
             ],
             [
              0.8888888888888888,
              "#fdca26"
             ],
             [
              1,
              "#f0f921"
             ]
            ],
            "type": "histogram2d"
           }
          ],
          "histogram2dcontour": [
           {
            "colorbar": {
             "outlinewidth": 0,
             "ticks": ""
            },
            "colorscale": [
             [
              0,
              "#0d0887"
             ],
             [
              0.1111111111111111,
              "#46039f"
             ],
             [
              0.2222222222222222,
              "#7201a8"
             ],
             [
              0.3333333333333333,
              "#9c179e"
             ],
             [
              0.4444444444444444,
              "#bd3786"
             ],
             [
              0.5555555555555556,
              "#d8576b"
             ],
             [
              0.6666666666666666,
              "#ed7953"
             ],
             [
              0.7777777777777778,
              "#fb9f3a"
             ],
             [
              0.8888888888888888,
              "#fdca26"
             ],
             [
              1,
              "#f0f921"
             ]
            ],
            "type": "histogram2dcontour"
           }
          ],
          "mesh3d": [
           {
            "colorbar": {
             "outlinewidth": 0,
             "ticks": ""
            },
            "type": "mesh3d"
           }
          ],
          "parcoords": [
           {
            "line": {
             "colorbar": {
              "outlinewidth": 0,
              "ticks": ""
             }
            },
            "type": "parcoords"
           }
          ],
          "pie": [
           {
            "automargin": true,
            "type": "pie"
           }
          ],
          "scatter": [
           {
            "marker": {
             "colorbar": {
              "outlinewidth": 0,
              "ticks": ""
             }
            },
            "type": "scatter"
           }
          ],
          "scatter3d": [
           {
            "line": {
             "colorbar": {
              "outlinewidth": 0,
              "ticks": ""
             }
            },
            "marker": {
             "colorbar": {
              "outlinewidth": 0,
              "ticks": ""
             }
            },
            "type": "scatter3d"
           }
          ],
          "scattercarpet": [
           {
            "marker": {
             "colorbar": {
              "outlinewidth": 0,
              "ticks": ""
             }
            },
            "type": "scattercarpet"
           }
          ],
          "scattergeo": [
           {
            "marker": {
             "colorbar": {
              "outlinewidth": 0,
              "ticks": ""
             }
            },
            "type": "scattergeo"
           }
          ],
          "scattergl": [
           {
            "marker": {
             "colorbar": {
              "outlinewidth": 0,
              "ticks": ""
             }
            },
            "type": "scattergl"
           }
          ],
          "scattermapbox": [
           {
            "marker": {
             "colorbar": {
              "outlinewidth": 0,
              "ticks": ""
             }
            },
            "type": "scattermapbox"
           }
          ],
          "scatterpolar": [
           {
            "marker": {
             "colorbar": {
              "outlinewidth": 0,
              "ticks": ""
             }
            },
            "type": "scatterpolar"
           }
          ],
          "scatterpolargl": [
           {
            "marker": {
             "colorbar": {
              "outlinewidth": 0,
              "ticks": ""
             }
            },
            "type": "scatterpolargl"
           }
          ],
          "scatterternary": [
           {
            "marker": {
             "colorbar": {
              "outlinewidth": 0,
              "ticks": ""
             }
            },
            "type": "scatterternary"
           }
          ],
          "surface": [
           {
            "colorbar": {
             "outlinewidth": 0,
             "ticks": ""
            },
            "colorscale": [
             [
              0,
              "#0d0887"
             ],
             [
              0.1111111111111111,
              "#46039f"
             ],
             [
              0.2222222222222222,
              "#7201a8"
             ],
             [
              0.3333333333333333,
              "#9c179e"
             ],
             [
              0.4444444444444444,
              "#bd3786"
             ],
             [
              0.5555555555555556,
              "#d8576b"
             ],
             [
              0.6666666666666666,
              "#ed7953"
             ],
             [
              0.7777777777777778,
              "#fb9f3a"
             ],
             [
              0.8888888888888888,
              "#fdca26"
             ],
             [
              1,
              "#f0f921"
             ]
            ],
            "type": "surface"
           }
          ],
          "table": [
           {
            "cells": {
             "fill": {
              "color": "#EBF0F8"
             },
             "line": {
              "color": "white"
             }
            },
            "header": {
             "fill": {
              "color": "#C8D4E3"
             },
             "line": {
              "color": "white"
             }
            },
            "type": "table"
           }
          ]
         },
         "layout": {
          "annotationdefaults": {
           "arrowcolor": "#2a3f5f",
           "arrowhead": 0,
           "arrowwidth": 1
          },
          "autotypenumbers": "strict",
          "coloraxis": {
           "colorbar": {
            "outlinewidth": 0,
            "ticks": ""
           }
          },
          "colorscale": {
           "diverging": [
            [
             0,
             "#8e0152"
            ],
            [
             0.1,
             "#c51b7d"
            ],
            [
             0.2,
             "#de77ae"
            ],
            [
             0.3,
             "#f1b6da"
            ],
            [
             0.4,
             "#fde0ef"
            ],
            [
             0.5,
             "#f7f7f7"
            ],
            [
             0.6,
             "#e6f5d0"
            ],
            [
             0.7,
             "#b8e186"
            ],
            [
             0.8,
             "#7fbc41"
            ],
            [
             0.9,
             "#4d9221"
            ],
            [
             1,
             "#276419"
            ]
           ],
           "sequential": [
            [
             0,
             "#0d0887"
            ],
            [
             0.1111111111111111,
             "#46039f"
            ],
            [
             0.2222222222222222,
             "#7201a8"
            ],
            [
             0.3333333333333333,
             "#9c179e"
            ],
            [
             0.4444444444444444,
             "#bd3786"
            ],
            [
             0.5555555555555556,
             "#d8576b"
            ],
            [
             0.6666666666666666,
             "#ed7953"
            ],
            [
             0.7777777777777778,
             "#fb9f3a"
            ],
            [
             0.8888888888888888,
             "#fdca26"
            ],
            [
             1,
             "#f0f921"
            ]
           ],
           "sequentialminus": [
            [
             0,
             "#0d0887"
            ],
            [
             0.1111111111111111,
             "#46039f"
            ],
            [
             0.2222222222222222,
             "#7201a8"
            ],
            [
             0.3333333333333333,
             "#9c179e"
            ],
            [
             0.4444444444444444,
             "#bd3786"
            ],
            [
             0.5555555555555556,
             "#d8576b"
            ],
            [
             0.6666666666666666,
             "#ed7953"
            ],
            [
             0.7777777777777778,
             "#fb9f3a"
            ],
            [
             0.8888888888888888,
             "#fdca26"
            ],
            [
             1,
             "#f0f921"
            ]
           ]
          },
          "colorway": [
           "#636efa",
           "#EF553B",
           "#00cc96",
           "#ab63fa",
           "#FFA15A",
           "#19d3f3",
           "#FF6692",
           "#B6E880",
           "#FF97FF",
           "#FECB52"
          ],
          "font": {
           "color": "#2a3f5f"
          },
          "geo": {
           "bgcolor": "white",
           "lakecolor": "white",
           "landcolor": "#E5ECF6",
           "showlakes": true,
           "showland": true,
           "subunitcolor": "white"
          },
          "hoverlabel": {
           "align": "left"
          },
          "hovermode": "closest",
          "mapbox": {
           "style": "light"
          },
          "paper_bgcolor": "white",
          "plot_bgcolor": "#E5ECF6",
          "polar": {
           "angularaxis": {
            "gridcolor": "white",
            "linecolor": "white",
            "ticks": ""
           },
           "bgcolor": "#E5ECF6",
           "radialaxis": {
            "gridcolor": "white",
            "linecolor": "white",
            "ticks": ""
           }
          },
          "scene": {
           "xaxis": {
            "backgroundcolor": "#E5ECF6",
            "gridcolor": "white",
            "gridwidth": 2,
            "linecolor": "white",
            "showbackground": true,
            "ticks": "",
            "zerolinecolor": "white"
           },
           "yaxis": {
            "backgroundcolor": "#E5ECF6",
            "gridcolor": "white",
            "gridwidth": 2,
            "linecolor": "white",
            "showbackground": true,
            "ticks": "",
            "zerolinecolor": "white"
           },
           "zaxis": {
            "backgroundcolor": "#E5ECF6",
            "gridcolor": "white",
            "gridwidth": 2,
            "linecolor": "white",
            "showbackground": true,
            "ticks": "",
            "zerolinecolor": "white"
           }
          },
          "shapedefaults": {
           "line": {
            "color": "#2a3f5f"
           }
          },
          "ternary": {
           "aaxis": {
            "gridcolor": "white",
            "linecolor": "white",
            "ticks": ""
           },
           "baxis": {
            "gridcolor": "white",
            "linecolor": "white",
            "ticks": ""
           },
           "bgcolor": "#E5ECF6",
           "caxis": {
            "gridcolor": "white",
            "linecolor": "white",
            "ticks": ""
           }
          },
          "title": {
           "x": 0.05
          },
          "xaxis": {
           "automargin": true,
           "gridcolor": "white",
           "linecolor": "white",
           "ticks": "",
           "title": {
            "standoff": 15
           },
           "zerolinecolor": "white",
           "zerolinewidth": 2
          },
          "yaxis": {
           "automargin": true,
           "gridcolor": "white",
           "linecolor": "white",
           "ticks": "",
           "title": {
            "standoff": 15
           },
           "zerolinecolor": "white",
           "zerolinewidth": 2
          }
         }
        },
        "title": {
         "text": "Customer Banking Behavior Radar"
        }
       }
      }
     },
     "metadata": {},
     "output_type": "display_data"
    }
   ],
   "source": [
    "import plotly.graph_objects as go\n",
    "\n",
    "\n",
    "fig = go.Figure()\n",
    "\n",
    "for i in df_radar.index:\n",
    "  fig.add_trace(\n",
    "                go.Scatterpolar(\n",
    "                                r=df_radar.loc[i].values,\n",
    "                                theta=df_radar.columns,\n",
    "                                fill='toself',\n",
    "                                name=f'Cluster {i} ',\n",
    "                                )\n",
    "                )\n",
    "fig.update_layout(\n",
    "    polar=dict(\n",
    "        radialaxis=dict(\n",
    "          visible=True,\n",
    "        ),\n",
    "      ),\n",
    "    showlegend=True,\n",
    "    title=\"Customer Banking Behavior Radar\"\n",
    ")\n",
    "\n",
    "fig.show()"
   ]
  },
  {
   "cell_type": "code",
   "execution_count": null,
   "metadata": {},
   "outputs": [],
   "source": [
    "# Cluster 0 : a large group of customers who have very-low income, small spenders (low purchase), lowest credit limit.\n",
    "# Cluster 1 : a large group of customers who have medium income, medium spenders, second-high credit limit\n",
    "# Cluster 2 : a small group of customers who have low income, medium spenders, third-high credit limit\n",
    "# Cluster 3 : a small group of customers who have high income, low purchase frequency (low trans count), highest credit limit.\n",
    "# We can assume that  customer cluster 3 uses their credit cards as a loan (high debts and high cre trans sum)."
   ]
  },
  {
   "cell_type": "code",
   "execution_count": null,
   "metadata": {},
   "outputs": [],
   "source": []
  },
  {
   "cell_type": "code",
   "execution_count": null,
   "metadata": {},
   "outputs": [],
   "source": []
  }
 ],
 "metadata": {
  "interpreter": {
   "hash": "76dec9f8e9a0ad28f7713aaf1d6b9e91edb0459bd8b58ea7b175ce8765ec7de0"
  },
  "kernelspec": {
   "display_name": "Python 3.9.7 ('base')",
   "language": "python",
   "name": "python3"
  },
  "language_info": {
   "codemirror_mode": {
    "name": "ipython",
    "version": 3
   },
   "file_extension": ".py",
   "mimetype": "text/x-python",
   "name": "python",
   "nbconvert_exporter": "python",
   "pygments_lexer": "ipython3",
   "version": "3.9.7"
  },
  "orig_nbformat": 4
 },
 "nbformat": 4,
 "nbformat_minor": 2
}
